{
 "cells": [
  {
   "cell_type": "markdown",
   "metadata": {},
   "source": [
    "# Aufgabe 2\n",
    "\n",
    "**Beschreibung der Aufgabe**\n",
    "\n",
    "Finden Sie ein offenes Datenset und versuchen Sie mittels Python Fragen zu beantworten, Hypothesen zu belegen/widerlegen oder Daten zu visualisieren. Es müssen mindestens drei unterschiedliche Fragen, Hypothesen oder Visualisierungen sein. Erstellen Sie dazu ein Jupyter Notebook (oder ein Python-Script) mit folgenden Abschnitten - im Jupyter Notebook nutzen Sie bitte Markdownzellen für diese Dokumentation:\n",
    "\n",
    "• Beschreibung des Datensets \n",
    "\n",
    "• Fragestellungen \n",
    "\n",
    "• Datenanalyse in Python mit Kommentaren was und warum Sie bestimmte Schritte gemacht haben ggf. auch kurze Erläuterung der Ergebnisse\n",
    "\n",
    "• Diskussion\n"
   ]
  },
  {
   "cell_type": "markdown",
   "metadata": {},
   "source": [
    "## Beschreibung des Datensets\n",
    "\n",
    "Für die Bearbeitung der 2. Aufgabe, wurde das Datenset **title.ratings.tsv.gz** des IMDb's ausgewählt.\n",
    "In diesem Datenset des IMDb's werden die Bewertungen vom IMDb aufgelistet, sowie die Stimmen der Nutzer/innen der jeweiligen Titel.\n",
    "\n"
   ]
  },
  {
   "cell_type": "markdown",
   "metadata": {},
   "source": [
    "## Fragestellungen \n",
    "\n",
    "Folgende Fragen sollen helfen, dass ausgewählte Datenset zu verstehen:\n",
    "\n",
    "**1. Welcher Titel hat die wenigsten und meisten Stimmen im Durchschnitt?**\n",
    "-> 'averageRating' wird hiefür benötigt, um die Frage beantworten zu können\n",
    "\n",
    "**2. Welcher Titel hat die wenigsten und meisten Stimmen der Nutzer bekommen?**\n",
    "->'numVotes' wird benötigt, um diese Frage beantworten zu beantworten\n",
    "\n",
    "**3. Welcher Wert hat die Mitte (nV)?**\n",
    "-> 'numVotes' wird hiefür benötigt\n",
    "\n",
    "**4. Welcher Wert hat die Mitte (aR)?**\n",
    "-> 'averageRating' wird hiefür gebraucht\n"
   ]
  },
  {
   "cell_type": "markdown",
   "metadata": {},
   "source": [
    "## Diskussion \n",
    "\n",
    "Zuerst wurde das Datenset *title.principals.tsv.gz* ausgewählt, wo bereits viele Probleme und Fehlermeldungen beim Aufrufen der Daten aufgetreten sind. Um nicht länger an den Fehlermeldungen hängen zu bleiben und nicht weiter zu kommen, wurde nun dieses Set genommen, da dies ebenfalls zur Auswahl stand. \n",
    "\n",
    "Ich habe mich dazu entschieden am Ende jeder frage noch ein Diagramm hinzuzufügen, damit die Ergebnisse etwas anschaulicher werden.\n",
    "\n",
    "An sich war die erste Frage recht einfach zu beantworten. Allerdings musste erstmal ausprobiert werden, wie die Zahlen innerhalb der Spalten sortiert werden konnten. Erst nach einigen Recherchen und ausprobieren, habe ich das Ergebniss bekommen, welches gebraucht wurde. An sich sollten die \"...\" nicht vergessen werden, was im nachhinein häufiger der Ursprung der Fehlermeldungen war.\n",
    "\n",
    "Da sich die zweite Frage nicht groß von der ersten unterschieden hat, war es einfacher dies Frage zu bewntworten. Was jedoch überasschend war, war, dass es einen großen Unterschied zu den meisten Stimmen gab. ich war davon ausgegangen, dass es wie in Aufgabe eins, keinen großen Unterschied gab. Auch überraschend war es, dass mein erstes Diagramm nichts sagend war, und ich mir daher überlegen musste, welches Diagramm man nun nutzen könnte, um das Ergebnis ein wenig aussagekräftiger zu machen.\n",
    "\n",
    "Bei der dritten Frage, war erst mal die Frage, wie genau sich der Mittelwert der Spalte anzeigen lässt. Nachdem mir dann der Begriff Median eingefallen ist, wollte ich es ausprobieren. Da zwar etwas angezeigt wurden ist, aber ich nicht das bekommen hatte was ich wollte, habe ich nun ein wenig gesucht, was ich verbessern konnte. So wurde dann herausgefunden, dass hinter dem median noch die Klammern müssen. Dadurch konnte ich dann die Aufgabe abschließen.\n",
    "\n",
    "Wie erwartet lag der Median unter dem des numVotes bei der letzten Frage. dafür zeigte jedoch das erste diagramm eine kleine Überaschung, da dieses schwer zu deuten war. Daher wurde ein weiteres Diagramm gewählt, welches einfach zu lesen ist.\n",
    "\n",
    "**Die vorliegenden Zahlen und Werte wurden genutzt, um die Fragen beantworten zu können. Da dieses Datenset täglich aktualisiert und bzw. ergänzt wird, kann es zu Abweichungen der Zahlen und Werte kommen**"
   ]
  },
  {
   "cell_type": "code",
   "execution_count": null,
   "metadata": {},
   "outputs": [],
   "source": []
  },
  {
   "cell_type": "code",
   "execution_count": 15,
   "metadata": {},
   "outputs": [],
   "source": [
    "# Importierung von Paketen um weiter zu kommen\n",
    "import pandas as pd\n",
    "import seaborn as sns\n",
    "import matplotlib.pyplot as plt\n",
    "import csv"
   ]
  },
  {
   "cell_type": "code",
   "execution_count": 16,
   "metadata": {},
   "outputs": [],
   "source": [
    "url = \"https://datasets.imdbws.com/title.ratings.tsv.gz\"\n",
    "imdb = pd.read_csv(url)"
   ]
  },
  {
   "cell_type": "code",
   "execution_count": 17,
   "metadata": {},
   "outputs": [
    {
     "data": {
      "text/plain": [
       "'https://datasets.imdbws.com/title.ratings.tsv.gz'"
      ]
     },
     "execution_count": 17,
     "metadata": {},
     "output_type": "execute_result"
    }
   ],
   "source": [
    "url"
   ]
  },
  {
   "cell_type": "code",
   "execution_count": 18,
   "metadata": {},
   "outputs": [
    {
     "data": {
      "text/html": [
       "<div>\n",
       "<style scoped>\n",
       "    .dataframe tbody tr th:only-of-type {\n",
       "        vertical-align: middle;\n",
       "    }\n",
       "\n",
       "    .dataframe tbody tr th {\n",
       "        vertical-align: top;\n",
       "    }\n",
       "\n",
       "    .dataframe thead th {\n",
       "        text-align: right;\n",
       "    }\n",
       "</style>\n",
       "<table border=\"1\" class=\"dataframe\">\n",
       "  <thead>\n",
       "    <tr style=\"text-align: right;\">\n",
       "      <th></th>\n",
       "      <th>tconst\\taverageRating\\tnumVotes</th>\n",
       "    </tr>\n",
       "  </thead>\n",
       "  <tbody>\n",
       "    <tr>\n",
       "      <th>0</th>\n",
       "      <td>tt0000001\\t5.7\\t1831</td>\n",
       "    </tr>\n",
       "    <tr>\n",
       "      <th>1</th>\n",
       "      <td>tt0000002\\t6.0\\t236</td>\n",
       "    </tr>\n",
       "    <tr>\n",
       "      <th>2</th>\n",
       "      <td>tt0000003\\t6.5\\t1591</td>\n",
       "    </tr>\n",
       "    <tr>\n",
       "      <th>3</th>\n",
       "      <td>tt0000004\\t6.0\\t153</td>\n",
       "    </tr>\n",
       "    <tr>\n",
       "      <th>4</th>\n",
       "      <td>tt0000005\\t6.2\\t2407</td>\n",
       "    </tr>\n",
       "    <tr>\n",
       "      <th>...</th>\n",
       "      <td>...</td>\n",
       "    </tr>\n",
       "    <tr>\n",
       "      <th>1199096</th>\n",
       "      <td>tt9916682\\t5.6\\t5</td>\n",
       "    </tr>\n",
       "    <tr>\n",
       "      <th>1199097</th>\n",
       "      <td>tt9916690\\t6.6\\t5</td>\n",
       "    </tr>\n",
       "    <tr>\n",
       "      <th>1199098</th>\n",
       "      <td>tt9916720\\t5.2\\t145</td>\n",
       "    </tr>\n",
       "    <tr>\n",
       "      <th>1199099</th>\n",
       "      <td>tt9916766\\t7.1\\t17</td>\n",
       "    </tr>\n",
       "    <tr>\n",
       "      <th>1199100</th>\n",
       "      <td>tt9916778\\t7.4\\t32</td>\n",
       "    </tr>\n",
       "  </tbody>\n",
       "</table>\n",
       "<p>1199101 rows × 1 columns</p>\n",
       "</div>"
      ],
      "text/plain": [
       "        tconst\\taverageRating\\tnumVotes\n",
       "0                  tt0000001\\t5.7\\t1831\n",
       "1                   tt0000002\\t6.0\\t236\n",
       "2                  tt0000003\\t6.5\\t1591\n",
       "3                   tt0000004\\t6.0\\t153\n",
       "4                  tt0000005\\t6.2\\t2407\n",
       "...                                 ...\n",
       "1199096               tt9916682\\t5.6\\t5\n",
       "1199097               tt9916690\\t6.6\\t5\n",
       "1199098             tt9916720\\t5.2\\t145\n",
       "1199099              tt9916766\\t7.1\\t17\n",
       "1199100              tt9916778\\t7.4\\t32\n",
       "\n",
       "[1199101 rows x 1 columns]"
      ]
     },
     "execution_count": 18,
     "metadata": {},
     "output_type": "execute_result"
    }
   ],
   "source": [
    "# Aufruf der Daten\n",
    "imdb"
   ]
  },
  {
   "cell_type": "code",
   "execution_count": 19,
   "metadata": {},
   "outputs": [],
   "source": [
    "# Da die obige Tabelle noch recht unübersichtlich ist, versuche ich es nun mit sep übersochtlicher zu machen\n",
    "url = \"https://datasets.imdbws.com/title.ratings.tsv.gz\"\n",
    "imdb = pd.read_csv(url, sep=\"\\t\")"
   ]
  },
  {
   "cell_type": "code",
   "execution_count": 20,
   "metadata": {},
   "outputs": [
    {
     "data": {
      "text/html": [
       "<div>\n",
       "<style scoped>\n",
       "    .dataframe tbody tr th:only-of-type {\n",
       "        vertical-align: middle;\n",
       "    }\n",
       "\n",
       "    .dataframe tbody tr th {\n",
       "        vertical-align: top;\n",
       "    }\n",
       "\n",
       "    .dataframe thead th {\n",
       "        text-align: right;\n",
       "    }\n",
       "</style>\n",
       "<table border=\"1\" class=\"dataframe\">\n",
       "  <thead>\n",
       "    <tr style=\"text-align: right;\">\n",
       "      <th></th>\n",
       "      <th>tconst</th>\n",
       "      <th>averageRating</th>\n",
       "      <th>numVotes</th>\n",
       "    </tr>\n",
       "  </thead>\n",
       "  <tbody>\n",
       "    <tr>\n",
       "      <th>0</th>\n",
       "      <td>tt0000001</td>\n",
       "      <td>5.7</td>\n",
       "      <td>1831</td>\n",
       "    </tr>\n",
       "    <tr>\n",
       "      <th>1</th>\n",
       "      <td>tt0000002</td>\n",
       "      <td>6.0</td>\n",
       "      <td>236</td>\n",
       "    </tr>\n",
       "    <tr>\n",
       "      <th>2</th>\n",
       "      <td>tt0000003</td>\n",
       "      <td>6.5</td>\n",
       "      <td>1591</td>\n",
       "    </tr>\n",
       "    <tr>\n",
       "      <th>3</th>\n",
       "      <td>tt0000004</td>\n",
       "      <td>6.0</td>\n",
       "      <td>153</td>\n",
       "    </tr>\n",
       "    <tr>\n",
       "      <th>4</th>\n",
       "      <td>tt0000005</td>\n",
       "      <td>6.2</td>\n",
       "      <td>2407</td>\n",
       "    </tr>\n",
       "    <tr>\n",
       "      <th>...</th>\n",
       "      <td>...</td>\n",
       "      <td>...</td>\n",
       "      <td>...</td>\n",
       "    </tr>\n",
       "    <tr>\n",
       "      <th>1199096</th>\n",
       "      <td>tt9916682</td>\n",
       "      <td>5.6</td>\n",
       "      <td>5</td>\n",
       "    </tr>\n",
       "    <tr>\n",
       "      <th>1199097</th>\n",
       "      <td>tt9916690</td>\n",
       "      <td>6.6</td>\n",
       "      <td>5</td>\n",
       "    </tr>\n",
       "    <tr>\n",
       "      <th>1199098</th>\n",
       "      <td>tt9916720</td>\n",
       "      <td>5.2</td>\n",
       "      <td>145</td>\n",
       "    </tr>\n",
       "    <tr>\n",
       "      <th>1199099</th>\n",
       "      <td>tt9916766</td>\n",
       "      <td>7.1</td>\n",
       "      <td>17</td>\n",
       "    </tr>\n",
       "    <tr>\n",
       "      <th>1199100</th>\n",
       "      <td>tt9916778</td>\n",
       "      <td>7.4</td>\n",
       "      <td>32</td>\n",
       "    </tr>\n",
       "  </tbody>\n",
       "</table>\n",
       "<p>1199101 rows × 3 columns</p>\n",
       "</div>"
      ],
      "text/plain": [
       "            tconst  averageRating  numVotes\n",
       "0        tt0000001            5.7      1831\n",
       "1        tt0000002            6.0       236\n",
       "2        tt0000003            6.5      1591\n",
       "3        tt0000004            6.0       153\n",
       "4        tt0000005            6.2      2407\n",
       "...            ...            ...       ...\n",
       "1199096  tt9916682            5.6         5\n",
       "1199097  tt9916690            6.6         5\n",
       "1199098  tt9916720            5.2       145\n",
       "1199099  tt9916766            7.1        17\n",
       "1199100  tt9916778            7.4        32\n",
       "\n",
       "[1199101 rows x 3 columns]"
      ]
     },
     "execution_count": 20,
     "metadata": {},
     "output_type": "execute_result"
    }
   ],
   "source": [
    "# Erneuter Aufruf der Daten\n",
    "imdb"
   ]
  },
  {
   "cell_type": "code",
   "execution_count": null,
   "metadata": {},
   "outputs": [],
   "source": []
  },
  {
   "cell_type": "markdown",
   "metadata": {},
   "source": [
    "### Beantwortung der 1. Frage\n",
    "\n",
    "Welcher Titel hat die wenigsten und meisten Stimmen im Durchschnitt?"
   ]
  },
  {
   "cell_type": "code",
   "execution_count": 21,
   "metadata": {},
   "outputs": [
    {
     "ename": "NameError",
     "evalue": "name 'averagerating' is not defined",
     "output_type": "error",
     "traceback": [
      "\u001b[1;31m---------------------------------------------------------------------------\u001b[0m",
      "\u001b[1;31mNameError\u001b[0m                                 Traceback (most recent call last)",
      "\u001b[1;32m<ipython-input-21-94734e10c6f5>\u001b[0m in \u001b[0;36m<module>\u001b[1;34m\u001b[0m\n\u001b[0;32m      1\u001b[0m \u001b[1;31m#Aufruf der Daten von 'averageRating'\u001b[0m\u001b[1;33m\u001b[0m\u001b[1;33m\u001b[0m\u001b[1;33m\u001b[0m\u001b[0m\n\u001b[1;32m----> 2\u001b[1;33m \u001b[0mimdb\u001b[0m\u001b[1;33m(\u001b[0m\u001b[0maveragerating\u001b[0m\u001b[1;33m)\u001b[0m\u001b[1;33m\u001b[0m\u001b[1;33m\u001b[0m\u001b[0m\n\u001b[0m",
      "\u001b[1;31mNameError\u001b[0m: name 'averagerating' is not defined"
     ]
    }
   ],
   "source": [
    "#Aufruf der Daten von 'averageRating'\n",
    "imdb(averagerating)"
   ]
  },
  {
   "cell_type": "code",
   "execution_count": 22,
   "metadata": {},
   "outputs": [
    {
     "ename": "NameError",
     "evalue": "name 'averageRating' is not defined",
     "output_type": "error",
     "traceback": [
      "\u001b[1;31m---------------------------------------------------------------------------\u001b[0m",
      "\u001b[1;31mNameError\u001b[0m                                 Traceback (most recent call last)",
      "\u001b[1;32m<ipython-input-22-4ddcce7f9ab3>\u001b[0m in \u001b[0;36m<module>\u001b[1;34m\u001b[0m\n\u001b[1;32m----> 1\u001b[1;33m \u001b[0mimdb\u001b[0m \u001b[1;33m[\u001b[0m\u001b[0maverageRating\u001b[0m\u001b[1;33m]\u001b[0m\u001b[1;33m\u001b[0m\u001b[1;33m\u001b[0m\u001b[0m\n\u001b[0m",
      "\u001b[1;31mNameError\u001b[0m: name 'averageRating' is not defined"
     ]
    }
   ],
   "source": [
    "imdb [averageRating]"
   ]
  },
  {
   "cell_type": "code",
   "execution_count": 23,
   "metadata": {},
   "outputs": [
    {
     "data": {
      "text/plain": [
       "0          5.7\n",
       "1          6.0\n",
       "2          6.5\n",
       "3          6.0\n",
       "4          6.2\n",
       "          ... \n",
       "1199096    5.6\n",
       "1199097    6.6\n",
       "1199098    5.2\n",
       "1199099    7.1\n",
       "1199100    7.4\n",
       "Name: averageRating, Length: 1199101, dtype: float64"
      ]
     },
     "execution_count": 23,
     "metadata": {},
     "output_type": "execute_result"
    }
   ],
   "source": [
    "imdb [\"averageRating\"]"
   ]
  },
  {
   "cell_type": "code",
   "execution_count": 24,
   "metadata": {},
   "outputs": [
    {
     "ename": "AttributeError",
     "evalue": "'Series' object has no attribute 'sort'",
     "output_type": "error",
     "traceback": [
      "\u001b[1;31m---------------------------------------------------------------------------\u001b[0m",
      "\u001b[1;31mAttributeError\u001b[0m                            Traceback (most recent call last)",
      "\u001b[1;32m<ipython-input-24-19f9e9248db1>\u001b[0m in \u001b[0;36m<module>\u001b[1;34m\u001b[0m\n\u001b[0;32m      1\u001b[0m \u001b[1;31m#Versuch die Werte nun zu sortieren mit sort\u001b[0m\u001b[1;33m\u001b[0m\u001b[1;33m\u001b[0m\u001b[1;33m\u001b[0m\u001b[0m\n\u001b[1;32m----> 2\u001b[1;33m \u001b[0mimdb\u001b[0m\u001b[1;33m.\u001b[0m\u001b[0maverageRating\u001b[0m\u001b[1;33m.\u001b[0m\u001b[0msort\u001b[0m\u001b[1;33m\u001b[0m\u001b[1;33m\u001b[0m\u001b[0m\n\u001b[0m",
      "\u001b[1;32m~\\anaconda3\\lib\\site-packages\\pandas\\core\\generic.py\u001b[0m in \u001b[0;36m__getattr__\u001b[1;34m(self, name)\u001b[0m\n\u001b[0;32m   5137\u001b[0m             \u001b[1;32mif\u001b[0m \u001b[0mself\u001b[0m\u001b[1;33m.\u001b[0m\u001b[0m_info_axis\u001b[0m\u001b[1;33m.\u001b[0m\u001b[0m_can_hold_identifiers_and_holds_name\u001b[0m\u001b[1;33m(\u001b[0m\u001b[0mname\u001b[0m\u001b[1;33m)\u001b[0m\u001b[1;33m:\u001b[0m\u001b[1;33m\u001b[0m\u001b[1;33m\u001b[0m\u001b[0m\n\u001b[0;32m   5138\u001b[0m                 \u001b[1;32mreturn\u001b[0m \u001b[0mself\u001b[0m\u001b[1;33m[\u001b[0m\u001b[0mname\u001b[0m\u001b[1;33m]\u001b[0m\u001b[1;33m\u001b[0m\u001b[1;33m\u001b[0m\u001b[0m\n\u001b[1;32m-> 5139\u001b[1;33m             \u001b[1;32mreturn\u001b[0m \u001b[0mobject\u001b[0m\u001b[1;33m.\u001b[0m\u001b[0m__getattribute__\u001b[0m\u001b[1;33m(\u001b[0m\u001b[0mself\u001b[0m\u001b[1;33m,\u001b[0m \u001b[0mname\u001b[0m\u001b[1;33m)\u001b[0m\u001b[1;33m\u001b[0m\u001b[1;33m\u001b[0m\u001b[0m\n\u001b[0m\u001b[0;32m   5140\u001b[0m \u001b[1;33m\u001b[0m\u001b[0m\n\u001b[0;32m   5141\u001b[0m     \u001b[1;32mdef\u001b[0m \u001b[0m__setattr__\u001b[0m\u001b[1;33m(\u001b[0m\u001b[0mself\u001b[0m\u001b[1;33m,\u001b[0m \u001b[0mname\u001b[0m\u001b[1;33m:\u001b[0m \u001b[0mstr\u001b[0m\u001b[1;33m,\u001b[0m \u001b[0mvalue\u001b[0m\u001b[1;33m)\u001b[0m \u001b[1;33m->\u001b[0m \u001b[1;32mNone\u001b[0m\u001b[1;33m:\u001b[0m\u001b[1;33m\u001b[0m\u001b[1;33m\u001b[0m\u001b[0m\n",
      "\u001b[1;31mAttributeError\u001b[0m: 'Series' object has no attribute 'sort'"
     ]
    }
   ],
   "source": [
    "#Versuch die Werte nun zu sortieren mit sort\n",
    "imdb.averageRating.sort"
   ]
  },
  {
   "cell_type": "code",
   "execution_count": 25,
   "metadata": {},
   "outputs": [
    {
     "ename": "AttributeError",
     "evalue": "'DataFrame' object has no attribute 'averagerating'",
     "output_type": "error",
     "traceback": [
      "\u001b[1;31m---------------------------------------------------------------------------\u001b[0m",
      "\u001b[1;31mAttributeError\u001b[0m                            Traceback (most recent call last)",
      "\u001b[1;32m<ipython-input-25-711ff65f3586>\u001b[0m in \u001b[0;36m<module>\u001b[1;34m\u001b[0m\n\u001b[0;32m      1\u001b[0m \u001b[1;31m#Erneuter Versuch...\u001b[0m\u001b[1;33m\u001b[0m\u001b[1;33m\u001b[0m\u001b[1;33m\u001b[0m\u001b[0m\n\u001b[1;32m----> 2\u001b[1;33m \u001b[0mimdb\u001b[0m\u001b[1;33m.\u001b[0m\u001b[0maveragerating\u001b[0m\u001b[1;33m.\u001b[0m\u001b[0msort\u001b[0m\u001b[1;33m(\u001b[0m\u001b[1;33m)\u001b[0m\u001b[1;33m\u001b[0m\u001b[1;33m\u001b[0m\u001b[0m\n\u001b[0m",
      "\u001b[1;32m~\\anaconda3\\lib\\site-packages\\pandas\\core\\generic.py\u001b[0m in \u001b[0;36m__getattr__\u001b[1;34m(self, name)\u001b[0m\n\u001b[0;32m   5137\u001b[0m             \u001b[1;32mif\u001b[0m \u001b[0mself\u001b[0m\u001b[1;33m.\u001b[0m\u001b[0m_info_axis\u001b[0m\u001b[1;33m.\u001b[0m\u001b[0m_can_hold_identifiers_and_holds_name\u001b[0m\u001b[1;33m(\u001b[0m\u001b[0mname\u001b[0m\u001b[1;33m)\u001b[0m\u001b[1;33m:\u001b[0m\u001b[1;33m\u001b[0m\u001b[1;33m\u001b[0m\u001b[0m\n\u001b[0;32m   5138\u001b[0m                 \u001b[1;32mreturn\u001b[0m \u001b[0mself\u001b[0m\u001b[1;33m[\u001b[0m\u001b[0mname\u001b[0m\u001b[1;33m]\u001b[0m\u001b[1;33m\u001b[0m\u001b[1;33m\u001b[0m\u001b[0m\n\u001b[1;32m-> 5139\u001b[1;33m             \u001b[1;32mreturn\u001b[0m \u001b[0mobject\u001b[0m\u001b[1;33m.\u001b[0m\u001b[0m__getattribute__\u001b[0m\u001b[1;33m(\u001b[0m\u001b[0mself\u001b[0m\u001b[1;33m,\u001b[0m \u001b[0mname\u001b[0m\u001b[1;33m)\u001b[0m\u001b[1;33m\u001b[0m\u001b[1;33m\u001b[0m\u001b[0m\n\u001b[0m\u001b[0;32m   5140\u001b[0m \u001b[1;33m\u001b[0m\u001b[0m\n\u001b[0;32m   5141\u001b[0m     \u001b[1;32mdef\u001b[0m \u001b[0m__setattr__\u001b[0m\u001b[1;33m(\u001b[0m\u001b[0mself\u001b[0m\u001b[1;33m,\u001b[0m \u001b[0mname\u001b[0m\u001b[1;33m:\u001b[0m \u001b[0mstr\u001b[0m\u001b[1;33m,\u001b[0m \u001b[0mvalue\u001b[0m\u001b[1;33m)\u001b[0m \u001b[1;33m->\u001b[0m \u001b[1;32mNone\u001b[0m\u001b[1;33m:\u001b[0m\u001b[1;33m\u001b[0m\u001b[1;33m\u001b[0m\u001b[0m\n",
      "\u001b[1;31mAttributeError\u001b[0m: 'DataFrame' object has no attribute 'averagerating'"
     ]
    }
   ],
   "source": [
    "#Erneuter Versuch...\n",
    "imdb.averagerating.sort()"
   ]
  },
  {
   "cell_type": "code",
   "execution_count": 26,
   "metadata": {},
   "outputs": [],
   "source": [
    "#anderer Versuch\n",
    "list = imdb [\"averageRating\"]"
   ]
  },
  {
   "cell_type": "code",
   "execution_count": 27,
   "metadata": {},
   "outputs": [
    {
     "name": "stdout",
     "output_type": "stream",
     "text": [
      "0          5.7\n",
      "1          6.0\n",
      "2          6.5\n",
      "3          6.0\n",
      "4          6.2\n",
      "          ... \n",
      "1199096    5.6\n",
      "1199097    6.6\n",
      "1199098    5.2\n",
      "1199099    7.1\n",
      "1199100    7.4\n",
      "Name: averageRating, Length: 1199101, dtype: float64\n"
     ]
    }
   ],
   "source": [
    "print(list)"
   ]
  },
  {
   "cell_type": "code",
   "execution_count": 28,
   "metadata": {},
   "outputs": [
    {
     "name": "stdout",
     "output_type": "stream",
     "text": [
      "0          5.7\n",
      "1          6.0\n",
      "2          6.5\n",
      "3          6.0\n",
      "4          6.2\n",
      "          ... \n",
      "1199096    5.6\n",
      "1199097    6.6\n",
      "1199098    5.2\n",
      "1199099    7.1\n",
      "1199100    7.4\n",
      "Name: averageRating, Length: 1199101, dtype: float64\n"
     ]
    },
    {
     "ename": "AttributeError",
     "evalue": "'Series' object has no attribute 'sort'",
     "output_type": "error",
     "traceback": [
      "\u001b[1;31m---------------------------------------------------------------------------\u001b[0m",
      "\u001b[1;31mAttributeError\u001b[0m                            Traceback (most recent call last)",
      "\u001b[1;32m<ipython-input-28-3f476cec196b>\u001b[0m in \u001b[0;36m<module>\u001b[1;34m\u001b[0m\n\u001b[0;32m      1\u001b[0m \u001b[1;31m#hat auch nicht funktioniert... leider wurde das falsche sortiert....\u001b[0m\u001b[1;33m\u001b[0m\u001b[1;33m\u001b[0m\u001b[1;33m\u001b[0m\u001b[0m\n\u001b[0;32m      2\u001b[0m \u001b[0mprint\u001b[0m\u001b[1;33m(\u001b[0m\u001b[0mlist\u001b[0m\u001b[1;33m)\u001b[0m\u001b[1;33m\u001b[0m\u001b[1;33m\u001b[0m\u001b[0m\n\u001b[1;32m----> 3\u001b[1;33m \u001b[0mlist\u001b[0m\u001b[1;33m.\u001b[0m\u001b[0msort\u001b[0m\u001b[1;33m(\u001b[0m\u001b[1;33m)\u001b[0m\u001b[1;33m\u001b[0m\u001b[1;33m\u001b[0m\u001b[0m\n\u001b[0m\u001b[0;32m      4\u001b[0m \u001b[0mprint\u001b[0m\u001b[1;33m(\u001b[0m\u001b[0mlist\u001b[0m\u001b[1;33m)\u001b[0m\u001b[1;33m\u001b[0m\u001b[1;33m\u001b[0m\u001b[0m\n",
      "\u001b[1;32m~\\anaconda3\\lib\\site-packages\\pandas\\core\\generic.py\u001b[0m in \u001b[0;36m__getattr__\u001b[1;34m(self, name)\u001b[0m\n\u001b[0;32m   5137\u001b[0m             \u001b[1;32mif\u001b[0m \u001b[0mself\u001b[0m\u001b[1;33m.\u001b[0m\u001b[0m_info_axis\u001b[0m\u001b[1;33m.\u001b[0m\u001b[0m_can_hold_identifiers_and_holds_name\u001b[0m\u001b[1;33m(\u001b[0m\u001b[0mname\u001b[0m\u001b[1;33m)\u001b[0m\u001b[1;33m:\u001b[0m\u001b[1;33m\u001b[0m\u001b[1;33m\u001b[0m\u001b[0m\n\u001b[0;32m   5138\u001b[0m                 \u001b[1;32mreturn\u001b[0m \u001b[0mself\u001b[0m\u001b[1;33m[\u001b[0m\u001b[0mname\u001b[0m\u001b[1;33m]\u001b[0m\u001b[1;33m\u001b[0m\u001b[1;33m\u001b[0m\u001b[0m\n\u001b[1;32m-> 5139\u001b[1;33m             \u001b[1;32mreturn\u001b[0m \u001b[0mobject\u001b[0m\u001b[1;33m.\u001b[0m\u001b[0m__getattribute__\u001b[0m\u001b[1;33m(\u001b[0m\u001b[0mself\u001b[0m\u001b[1;33m,\u001b[0m \u001b[0mname\u001b[0m\u001b[1;33m)\u001b[0m\u001b[1;33m\u001b[0m\u001b[1;33m\u001b[0m\u001b[0m\n\u001b[0m\u001b[0;32m   5140\u001b[0m \u001b[1;33m\u001b[0m\u001b[0m\n\u001b[0;32m   5141\u001b[0m     \u001b[1;32mdef\u001b[0m \u001b[0m__setattr__\u001b[0m\u001b[1;33m(\u001b[0m\u001b[0mself\u001b[0m\u001b[1;33m,\u001b[0m \u001b[0mname\u001b[0m\u001b[1;33m:\u001b[0m \u001b[0mstr\u001b[0m\u001b[1;33m,\u001b[0m \u001b[0mvalue\u001b[0m\u001b[1;33m)\u001b[0m \u001b[1;33m->\u001b[0m \u001b[1;32mNone\u001b[0m\u001b[1;33m:\u001b[0m\u001b[1;33m\u001b[0m\u001b[1;33m\u001b[0m\u001b[0m\n",
      "\u001b[1;31mAttributeError\u001b[0m: 'Series' object has no attribute 'sort'"
     ]
    }
   ],
   "source": [
    "#hat auch nicht funktioniert... leider wurde das falsche sortiert....\n",
    "print(list)\n",
    "list.sort()\n",
    "print(list)"
   ]
  },
  {
   "cell_type": "code",
   "execution_count": 29,
   "metadata": {
    "scrolled": true
   },
   "outputs": [
    {
     "data": {
      "text/plain": [
       "822861      1.0\n",
       "876878      1.0\n",
       "772913      1.0\n",
       "1130852     1.0\n",
       "540013      1.0\n",
       "           ... \n",
       "940484     10.0\n",
       "940483     10.0\n",
       "940482     10.0\n",
       "1089309    10.0\n",
       "671260     10.0\n",
       "Name: averageRating, Length: 1199101, dtype: float64"
      ]
     },
     "execution_count": 29,
     "metadata": {},
     "output_type": "execute_result"
    }
   ],
   "source": [
    "# nächster Versuch, der endlich geklappt hat, nach Rechtschreib- und Tippfehlern\n",
    "imdb.averageRating.sort_values()"
   ]
  },
  {
   "cell_type": "markdown",
   "metadata": {},
   "source": [
    "**Ergebnis**\n",
    "\n",
    "Dank sort_value() wurden die Zahlen nun so sortiert, dass sie nun nach dem niedrigsten Durchschnitt hin sortiert wurden sind.\n",
    "Anhand der oben genannten Zahlen kann man sehen, dass es mehrere Titel gibt, die den selben Durchschnitt der Stimmen erzielt haben. Daher kann man keine eindeutige Werke nennen. \n",
    "\n",
    "Um das Ergebnis etwas anschaulicher zu gestalten, versuche ich diese Tabelle nun als ein Diagramm aufzeigen zu lassen.\n"
   ]
  },
  {
   "cell_type": "code",
   "execution_count": 30,
   "metadata": {},
   "outputs": [
    {
     "ename": "NameError",
     "evalue": "name 'red' is not defined",
     "output_type": "error",
     "traceback": [
      "\u001b[1;31m---------------------------------------------------------------------------\u001b[0m",
      "\u001b[1;31mNameError\u001b[0m                                 Traceback (most recent call last)",
      "\u001b[1;32m<ipython-input-30-c01dd0688ab2>\u001b[0m in \u001b[0;36m<module>\u001b[1;34m\u001b[0m\n\u001b[0;32m      1\u001b[0m \u001b[1;31m# Ergebniss als Diagramm, um es zu veranschaulichen\u001b[0m\u001b[1;33m\u001b[0m\u001b[1;33m\u001b[0m\u001b[1;33m\u001b[0m\u001b[0m\n\u001b[1;32m----> 2\u001b[1;33m \u001b[0mimdb\u001b[0m\u001b[1;33m.\u001b[0m\u001b[0maverageRating\u001b[0m\u001b[1;33m.\u001b[0m\u001b[0mhist\u001b[0m\u001b[1;33m(\u001b[0m\u001b[0mcolor\u001b[0m\u001b[1;33m=\u001b[0m\u001b[0mred\u001b[0m\u001b[1;33m)\u001b[0m\u001b[1;33m\u001b[0m\u001b[1;33m\u001b[0m\u001b[0m\n\u001b[0m",
      "\u001b[1;31mNameError\u001b[0m: name 'red' is not defined"
     ]
    }
   ],
   "source": [
    "# Ergebniss als Diagramm, um es zu veranschaulichen\n",
    "imdb.averageRating.hist(color=red)"
   ]
  },
  {
   "cell_type": "code",
   "execution_count": 31,
   "metadata": {},
   "outputs": [
    {
     "data": {
      "text/plain": [
       "<AxesSubplot:>"
      ]
     },
     "execution_count": 31,
     "metadata": {},
     "output_type": "execute_result"
    },
    {
     "data": {
      "image/png": "[encoded data removed]",
      "text/plain": [
       "<Figure size 432x288 with 1 Axes>"
      ]
     },
     "metadata": {
      "needs_background": "light"
     },
     "output_type": "display_data"
    }
   ],
   "source": [
    "# man sollte die \"...\" nicht vergessen...\n",
    "imdb.averageRating.hist(color=\"red\")"
   ]
  },
  {
   "cell_type": "code",
   "execution_count": null,
   "metadata": {},
   "outputs": [],
   "source": []
  },
  {
   "cell_type": "markdown",
   "metadata": {},
   "source": [
    "### Beantwortung der 2. Frage\n",
    "\n",
    "Welcher Titel hat die wenigsten und meisten Stimmen der Nutzer bekommen?"
   ]
  },
  {
   "cell_type": "code",
   "execution_count": 32,
   "metadata": {},
   "outputs": [
    {
     "data": {
      "text/plain": [
       "0          1831\n",
       "1           236\n",
       "2          1591\n",
       "3           153\n",
       "4          2407\n",
       "           ... \n",
       "1199096       5\n",
       "1199097       5\n",
       "1199098     145\n",
       "1199099      17\n",
       "1199100      32\n",
       "Name: numVotes, Length: 1199101, dtype: int64"
      ]
     },
     "execution_count": 32,
     "metadata": {},
     "output_type": "execute_result"
    }
   ],
   "source": [
    "# Aufruf der daten von 'numVotes'\n",
    "imdb [\"numVotes\"]"
   ]
  },
  {
   "cell_type": "code",
   "execution_count": 33,
   "metadata": {},
   "outputs": [
    {
     "data": {
      "text/plain": [
       "609240           5\n",
       "1006449          5\n",
       "766638           5\n",
       "531263           5\n",
       "648041           5\n",
       "            ...   \n",
       "82013      1919104\n",
       "98677      1953392\n",
       "618063     2183856\n",
       "248977     2433653\n",
       "82230      2479369\n",
       "Name: numVotes, Length: 1199101, dtype: int64"
      ]
     },
     "execution_count": 33,
     "metadata": {},
     "output_type": "execute_result"
    }
   ],
   "source": [
    "# Daten sortiert anzeigen\n",
    "imdb.numVotes.sort_values()"
   ]
  },
  {
   "cell_type": "markdown",
   "metadata": {},
   "source": [
    "**Ergebnis**\n",
    "\n",
    "Hier kann man sehen, dass mehrere Titel 5 Stimmen bekommen haben, und diese somit am wenigsten Stimmen bekommen haben. \n",
    "Dafür sieht man aber sehr gut, dass ein Titel sehr, sehr viele Stimmeren der Nutzer bekommen hat. Der katalogisierte Titel mit der Nummer 82230 hat hier nun die meisten Stimmen erhalten.\n",
    "\n",
    "Auch hier werde ich nun ein Diagramm zeigen, um es anschaulicher zu machen."
   ]
  },
  {
   "cell_type": "code",
   "execution_count": 34,
   "metadata": {},
   "outputs": [
    {
     "data": {
      "text/plain": [
       "<AxesSubplot:>"
      ]
     },
     "execution_count": 34,
     "metadata": {},
     "output_type": "execute_result"
    },
    {
     "data": {
      "image/png": "[encoded data removed]",
      "text/plain": [
       "<Figure size 432x288 with 1 Axes>"
      ]
     },
     "metadata": {
      "needs_background": "light"
     },
     "output_type": "display_data"
    }
   ],
   "source": [
    "imdb.numVotes.hist(color=\"yellow\")"
   ]
  },
  {
   "cell_type": "code",
   "execution_count": 42,
   "metadata": {},
   "outputs": [
    {
     "data": {
      "text/plain": [
       "<AxesSubplot:xlabel='numVotes'>"
      ]
     },
     "execution_count": 42,
     "metadata": {},
     "output_type": "execute_result"
    },
    {
     "data": {
      "image/png": "[encoded data removed]",
      "text/plain": [
       "<Figure size 432x288 with 1 Axes>"
      ]
     },
     "metadata": {
      "needs_background": "light"
     },
     "output_type": "display_data"
    }
   ],
   "source": [
    "# da das vorherige Diagramm nichts sagend ist, versuche ich es nun mit einem anderem...\n",
    "sns.boxplot(x=imdb.numVotes)"
   ]
  },
  {
   "cell_type": "markdown",
   "metadata": {},
   "source": [
    "### Beantwortung der 3. Frage\n",
    "\n",
    "Welcher Wert hat die Mitte (nV)?"
   ]
  },
  {
   "cell_type": "code",
   "execution_count": 44,
   "metadata": {},
   "outputs": [
    {
     "data": {
      "text/plain": [
       "0          1831\n",
       "1           236\n",
       "2          1591\n",
       "3           153\n",
       "4          2407\n",
       "           ... \n",
       "1199096       5\n",
       "1199097       5\n",
       "1199098     145\n",
       "1199099      17\n",
       "1199100      32\n",
       "Name: numVotes, Length: 1199101, dtype: int64"
      ]
     },
     "execution_count": 44,
     "metadata": {},
     "output_type": "execute_result"
    }
   ],
   "source": [
    "# Aufruf der Daten der gefragten Spalte\n",
    "imdb.numVotes"
   ]
  },
  {
   "cell_type": "code",
   "execution_count": 46,
   "metadata": {},
   "outputs": [
    {
     "data": {
      "text/plain": [
       "<bound method Series.median of 0          1831\n",
       "1           236\n",
       "2          1591\n",
       "3           153\n",
       "4          2407\n",
       "           ... \n",
       "1199096       5\n",
       "1199097       5\n",
       "1199098     145\n",
       "1199099      17\n",
       "1199100      32\n",
       "Name: numVotes, Length: 1199101, dtype: int64>"
      ]
     },
     "execution_count": 46,
     "metadata": {},
     "output_type": "execute_result"
    }
   ],
   "source": [
    "# Nun wird versucht die Mitte der Spalte mit Hilfe des Medians zu finden, da dieser den Mittelwert der Spalte ausrechnet\n",
    "imdb.numVotes.median"
   ]
  },
  {
   "cell_type": "code",
   "execution_count": 47,
   "metadata": {},
   "outputs": [
    {
     "data": {
      "text/plain": [
       "24.0"
      ]
     },
     "execution_count": 47,
     "metadata": {},
     "output_type": "execute_result"
    }
   ],
   "source": [
    "# erster Versuch hat nicht funktioniert, nächster Versuch. Nach Recherche herausgefunden, dass () dabei sein müssen\n",
    "imdb.numVotes.median()"
   ]
  },
  {
   "cell_type": "markdown",
   "metadata": {},
   "source": [
    "**Ergebnis**\n",
    "\n",
    "Der Mittelwert (Median) der Spalte numVotes leigt bei genau 24."
   ]
  },
  {
   "cell_type": "code",
   "execution_count": 48,
   "metadata": {},
   "outputs": [
    {
     "data": {
      "text/plain": [
       "<AxesSubplot:xlabel='numVotes'>"
      ]
     },
     "execution_count": 48,
     "metadata": {},
     "output_type": "execute_result"
    },
    {
     "data": {
      "image/png": "[encoded data removed]",
      "text/plain": [
       "<Figure size 432x288 with 1 Axes>"
      ]
     },
     "metadata": {
      "needs_background": "light"
     },
     "output_type": "display_data"
    }
   ],
   "source": [
    "sns.boxplot(x=imdb.numVotes)"
   ]
  },
  {
   "cell_type": "markdown",
   "metadata": {},
   "source": [
    "### Beantwortung der 4. Frage\n",
    "\n",
    "Welcher Wert hat die Mitte (aR)?"
   ]
  },
  {
   "cell_type": "code",
   "execution_count": 49,
   "metadata": {},
   "outputs": [
    {
     "ename": "AttributeError",
     "evalue": "'DataFrame' object has no attribute 'avarageRating'",
     "output_type": "error",
     "traceback": [
      "\u001b[1;31m---------------------------------------------------------------------------\u001b[0m",
      "\u001b[1;31mAttributeError\u001b[0m                            Traceback (most recent call last)",
      "\u001b[1;32m<ipython-input-49-a26b48983a2b>\u001b[0m in \u001b[0;36m<module>\u001b[1;34m\u001b[0m\n\u001b[0;32m      1\u001b[0m \u001b[1;31m# Aufruf der Daten\u001b[0m\u001b[1;33m\u001b[0m\u001b[1;33m\u001b[0m\u001b[1;33m\u001b[0m\u001b[0m\n\u001b[1;32m----> 2\u001b[1;33m \u001b[0mimdb\u001b[0m\u001b[1;33m.\u001b[0m\u001b[0mavarageRating\u001b[0m\u001b[1;33m\u001b[0m\u001b[1;33m\u001b[0m\u001b[0m\n\u001b[0m",
      "\u001b[1;32m~\\anaconda3\\lib\\site-packages\\pandas\\core\\generic.py\u001b[0m in \u001b[0;36m__getattr__\u001b[1;34m(self, name)\u001b[0m\n\u001b[0;32m   5137\u001b[0m             \u001b[1;32mif\u001b[0m \u001b[0mself\u001b[0m\u001b[1;33m.\u001b[0m\u001b[0m_info_axis\u001b[0m\u001b[1;33m.\u001b[0m\u001b[0m_can_hold_identifiers_and_holds_name\u001b[0m\u001b[1;33m(\u001b[0m\u001b[0mname\u001b[0m\u001b[1;33m)\u001b[0m\u001b[1;33m:\u001b[0m\u001b[1;33m\u001b[0m\u001b[1;33m\u001b[0m\u001b[0m\n\u001b[0;32m   5138\u001b[0m                 \u001b[1;32mreturn\u001b[0m \u001b[0mself\u001b[0m\u001b[1;33m[\u001b[0m\u001b[0mname\u001b[0m\u001b[1;33m]\u001b[0m\u001b[1;33m\u001b[0m\u001b[1;33m\u001b[0m\u001b[0m\n\u001b[1;32m-> 5139\u001b[1;33m             \u001b[1;32mreturn\u001b[0m \u001b[0mobject\u001b[0m\u001b[1;33m.\u001b[0m\u001b[0m__getattribute__\u001b[0m\u001b[1;33m(\u001b[0m\u001b[0mself\u001b[0m\u001b[1;33m,\u001b[0m \u001b[0mname\u001b[0m\u001b[1;33m)\u001b[0m\u001b[1;33m\u001b[0m\u001b[1;33m\u001b[0m\u001b[0m\n\u001b[0m\u001b[0;32m   5140\u001b[0m \u001b[1;33m\u001b[0m\u001b[0m\n\u001b[0;32m   5141\u001b[0m     \u001b[1;32mdef\u001b[0m \u001b[0m__setattr__\u001b[0m\u001b[1;33m(\u001b[0m\u001b[0mself\u001b[0m\u001b[1;33m,\u001b[0m \u001b[0mname\u001b[0m\u001b[1;33m:\u001b[0m \u001b[0mstr\u001b[0m\u001b[1;33m,\u001b[0m \u001b[0mvalue\u001b[0m\u001b[1;33m)\u001b[0m \u001b[1;33m->\u001b[0m \u001b[1;32mNone\u001b[0m\u001b[1;33m:\u001b[0m\u001b[1;33m\u001b[0m\u001b[1;33m\u001b[0m\u001b[0m\n",
      "\u001b[1;31mAttributeError\u001b[0m: 'DataFrame' object has no attribute 'avarageRating'"
     ]
    }
   ],
   "source": [
    "# Aufruf der Daten\n",
    "imdb.avarageRating"
   ]
  },
  {
   "cell_type": "code",
   "execution_count": 50,
   "metadata": {},
   "outputs": [
    {
     "data": {
      "text/plain": [
       "0          5.7\n",
       "1          6.0\n",
       "2          6.5\n",
       "3          6.0\n",
       "4          6.2\n",
       "          ... \n",
       "1199096    5.6\n",
       "1199097    6.6\n",
       "1199098    5.2\n",
       "1199099    7.1\n",
       "1199100    7.4\n",
       "Name: averageRating, Length: 1199101, dtype: float64"
      ]
     },
     "execution_count": 50,
     "metadata": {},
     "output_type": "execute_result"
    }
   ],
   "source": [
    "# richtig schreiben, wäre eine Option...\n",
    "imdb.averageRating"
   ]
  },
  {
   "cell_type": "code",
   "execution_count": 51,
   "metadata": {},
   "outputs": [
    {
     "data": {
      "text/plain": [
       "7.1"
      ]
     },
     "execution_count": 51,
     "metadata": {},
     "output_type": "execute_result"
    }
   ],
   "source": [
    "# den Mittelwert der Splate anzeigen lassen\n",
    "imdb.averageRating.median()"
   ]
  },
  {
   "cell_type": "markdown",
   "metadata": {},
   "source": [
    "**Ergebnis**\n",
    "\n",
    "Der Mittelwert (Median) liegt hier erwartungsgemäß unter dem der Spalte numVotes. Der Median der Spalte averageRating liegt bei 7,1."
   ]
  },
  {
   "cell_type": "code",
   "execution_count": 52,
   "metadata": {},
   "outputs": [
    {
     "data": {
      "text/plain": [
       "<AxesSubplot:xlabel='averageRating'>"
      ]
     },
     "execution_count": 52,
     "metadata": {},
     "output_type": "execute_result"
    },
    {
     "data": {
      "image/png": "[encoded data removed]",
      "text/plain": [
       "<Figure size 432x288 with 1 Axes>"
      ]
     },
     "metadata": {
      "needs_background": "light"
     },
     "output_type": "display_data"
    }
   ],
   "source": [
    "sns.boxplot(x=imdb.averageRating)"
   ]
  },
  {
   "cell_type": "code",
   "execution_count": 54,
   "metadata": {},
   "outputs": [
    {
     "data": {
      "text/plain": [
       "<AxesSubplot:>"
      ]
     },
     "execution_count": 54,
     "metadata": {},
     "output_type": "execute_result"
    },
    {
     "data": {
      "image/png": "[encoded data removed]",
      "text/plain": [
       "<Figure size 432x288 with 1 Axes>"
      ]
     },
     "metadata": {
      "needs_background": "light"
     },
     "output_type": "display_data"
    }
   ],
   "source": [
    "# um es anschualicher zu machen, da das erste Diagramm schwer zu lesen ist\n",
    "imdb.averageRating.hist(color=\"blue\")"
   ]
  },
  {
   "cell_type": "code",
   "execution_count": null,
   "metadata": {},
   "outputs": [],
   "source": []
  }
 ],
 "metadata": {
  "kernelspec": {
   "display_name": "Python 3",
   "language": "python",
   "name": "python3"
  },
  "language_info": {
   "codemirror_mode": {
    "name": "ipython",
    "version": 3
   },
   "file_extension": ".py",
   "mimetype": "text/x-python",
   "name": "python",
   "nbconvert_exporter": "python",
   "pygments_lexer": "ipython3",
   "version": "3.8.5"
  }
 },
 "nbformat": 4,
 "nbformat_minor": 4
}
