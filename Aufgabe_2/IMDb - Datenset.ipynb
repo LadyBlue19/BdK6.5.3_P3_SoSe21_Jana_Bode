{
 "cells": [
  {
   "cell_type": "markdown",
   "metadata": {},
   "source": [
    "# Aufgabe 2\n",
    "\n",
    "**Beschreibung der Aufgabe**\n",
    "\n",
    "Finden Sie ein offenes Datenset und versuchen Sie mittels Python Fragen zu beantworten, Hypothesen zu belegen/widerlegen oder Daten zu visualisieren. Es müssen mindestens drei unterschiedliche Fragen, Hypothesen oder Visualisierungen sein. Erstellen Sie dazu ein Jupyter Notebook (oder ein Python-Script) mit folgenden Abschnitten - im Jupyter Notebook nutzen Sie bitte Markdownzellen für diese Dokumentation:\n",
    "\n",
    "• Beschreibung des Datensets \n",
    "\n",
    "• Fragestellungen \n",
    "\n",
    "• Datenanalyse in Python mit Kommentaren was und warum Sie bestimmte Schritte gemacht haben ggf. auch kurze Erläuterung der Ergebnisse\n",
    "\n",
    "• Diskussion\n"
   ]
  },
  {
   "cell_type": "markdown",
   "metadata": {},
   "source": [
    "## Beschreibung des Datensets\n",
    "\n",
    "Für die Bearbeitung der 2. Aufgabe, wurde das Datenset **title.ratings.tsv.gz** des IMDb's ausgewählt.\n",
    "In diesem Datenset des IMDb's werden die Bewertungen vom IMDb aufgelistet, sowie die Stimmen der Nutzer/innen der jeweiligen Titel.\n",
    "\n"
   ]
  },
  {
   "cell_type": "markdown",
   "metadata": {},
   "source": [
    "## Fragestellungen \n",
    "\n",
    "Folgende Fragen sollen helfen, dass Datenset zu verstehen:\n",
    "\n",
    "**1. Welcher Titel hat die wenigsten und meisten Stimmen im Durchschnitt?**\n",
    "-> 'averageRating' wird hiefür benötigt, um die Frage beantworten zu können\n",
    "\n",
    "**2. Welcher Titel hat die wenigsten und meisten Stimmen der Nutzer bekommen?**\n",
    "->'numVotes' wird benötigt, um diese Frage beantworten zu beantworten\n",
    "\n",
    "**3. Welcher Titel liegt genau in der Mitte (nV)?**\n",
    "-> 'numVotes' wird hiefür benötigt\n",
    "\n",
    "**4. Welcher Titel liegt genau in der Mitte (aR)?**\n",
    "-> 'averageRating' wird hiefür gebarucht\n"
   ]
  },
  {
   "cell_type": "markdown",
   "metadata": {},
   "source": [
    "## Diskussion \n",
    "\n",
    "Zuerst wurde das Datenset *title.principals.tsv.gz* ausgewählt, wo bereits viele Probleme und Fehlermeldungen beim Aufrufen der Daten aufgetreten sind. Um nicht länger an den Fehlermeldungen hängen zu bleiben und nicht weiter zu kommen, wurde nun dieses Set genommen, da dies ebenfalls zu Auswahl stand. \n",
    "\n",
    "An sich war die erste Frage recht einfach zu beantworten. Allerdings musste erstmal ausprobiert werden, wie die Zahlen innerhalb der Spalten sortiert werden konnten. Erst nach einigen Recherchen und ausprobieren, habe ich das Ergebniss bekommen, welches gebraucht wurde. An sich sollten die \"...\" nicht vergessen werden, was im nachhinein häufiger der Ursprung der Fehlermeldungen war.\n",
    "\n",
    "...\n",
    "\n",
    "...\n",
    "\n",
    ".....\n",
    "\n",
    "\n",
    "**Die vorliegenden Zahlen und Werte wurden genutzt, um die Fragen beantworten zu können. Da dieses Datenset täglich aktualisiert und bzw. ergänzt wird, kann es zu Abweichungen der Zahlen und Werte kommen**"
   ]
  },
  {
   "cell_type": "code",
   "execution_count": null,
   "metadata": {},
   "outputs": [],
   "source": []
  },
  {
   "cell_type": "code",
   "execution_count": 27,
   "metadata": {},
   "outputs": [],
   "source": [
    "# Importierung von Paketen um weiter zu kommen\n",
    "import pandas as pd\n",
    "import seaborn as sns\n",
    "import matplotlib.pyplot as plt\n",
    "import csv"
   ]
  },
  {
   "cell_type": "code",
   "execution_count": 40,
   "metadata": {},
   "outputs": [],
   "source": [
    "url = \"https://datasets.imdbws.com/title.ratings.tsv.gz\"\n",
    "imdb = pd.read_csv(url)"
   ]
  },
  {
   "cell_type": "code",
   "execution_count": 38,
   "metadata": {},
   "outputs": [
    {
     "data": {
      "text/plain": [
       "'https://datasets.imdbws.com/title.ratings.tsv.gz'"
      ]
     },
     "execution_count": 38,
     "metadata": {},
     "output_type": "execute_result"
    }
   ],
   "source": [
    "url"
   ]
  },
  {
   "cell_type": "code",
   "execution_count": 39,
   "metadata": {},
   "outputs": [
    {
     "data": {
      "text/html": [
       "<div>\n",
       "<style scoped>\n",
       "    .dataframe tbody tr th:only-of-type {\n",
       "        vertical-align: middle;\n",
       "    }\n",
       "\n",
       "    .dataframe tbody tr th {\n",
       "        vertical-align: top;\n",
       "    }\n",
       "\n",
       "    .dataframe thead th {\n",
       "        text-align: right;\n",
       "    }\n",
       "</style>\n",
       "<table border=\"1\" class=\"dataframe\">\n",
       "  <thead>\n",
       "    <tr style=\"text-align: right;\">\n",
       "      <th></th>\n",
       "      <th>tconst\\taverageRating\\tnumVotes</th>\n",
       "    </tr>\n",
       "  </thead>\n",
       "  <tbody>\n",
       "    <tr>\n",
       "      <th>0</th>\n",
       "      <td>tt0000001\\t5.7\\t1827</td>\n",
       "    </tr>\n",
       "    <tr>\n",
       "      <th>1</th>\n",
       "      <td>tt0000002\\t6.0\\t235</td>\n",
       "    </tr>\n",
       "    <tr>\n",
       "      <th>2</th>\n",
       "      <td>tt0000003\\t6.5\\t1587</td>\n",
       "    </tr>\n",
       "    <tr>\n",
       "      <th>3</th>\n",
       "      <td>tt0000004\\t6.0\\t153</td>\n",
       "    </tr>\n",
       "    <tr>\n",
       "      <th>4</th>\n",
       "      <td>tt0000005\\t6.2\\t2404</td>\n",
       "    </tr>\n",
       "    <tr>\n",
       "      <th>...</th>\n",
       "      <td>...</td>\n",
       "    </tr>\n",
       "    <tr>\n",
       "      <th>1196704</th>\n",
       "      <td>tt9916682\\t5.6\\t5</td>\n",
       "    </tr>\n",
       "    <tr>\n",
       "      <th>1196705</th>\n",
       "      <td>tt9916690\\t6.6\\t5</td>\n",
       "    </tr>\n",
       "    <tr>\n",
       "      <th>1196706</th>\n",
       "      <td>tt9916720\\t5.1\\t143</td>\n",
       "    </tr>\n",
       "    <tr>\n",
       "      <th>1196707</th>\n",
       "      <td>tt9916766\\t7.1\\t17</td>\n",
       "    </tr>\n",
       "    <tr>\n",
       "      <th>1196708</th>\n",
       "      <td>tt9916778\\t7.5\\t31</td>\n",
       "    </tr>\n",
       "  </tbody>\n",
       "</table>\n",
       "<p>1196709 rows × 1 columns</p>\n",
       "</div>"
      ],
      "text/plain": [
       "        tconst\\taverageRating\\tnumVotes\n",
       "0                  tt0000001\\t5.7\\t1827\n",
       "1                   tt0000002\\t6.0\\t235\n",
       "2                  tt0000003\\t6.5\\t1587\n",
       "3                   tt0000004\\t6.0\\t153\n",
       "4                  tt0000005\\t6.2\\t2404\n",
       "...                                 ...\n",
       "1196704               tt9916682\\t5.6\\t5\n",
       "1196705               tt9916690\\t6.6\\t5\n",
       "1196706             tt9916720\\t5.1\\t143\n",
       "1196707              tt9916766\\t7.1\\t17\n",
       "1196708              tt9916778\\t7.5\\t31\n",
       "\n",
       "[1196709 rows x 1 columns]"
      ]
     },
     "execution_count": 39,
     "metadata": {},
     "output_type": "execute_result"
    }
   ],
   "source": [
    "# Aufruf der Daten\n",
    "imdb"
   ]
  },
  {
   "cell_type": "code",
   "execution_count": 43,
   "metadata": {},
   "outputs": [],
   "source": [
    "# Da die obige Tabelle noch recht unübersichtlich ist, versuche ich es nun mit sep übersochtlicher zu machen\n",
    "url = \"https://datasets.imdbws.com/title.ratings.tsv.gz\"\n",
    "imdb = pd.read_csv(url, sep=\"\\t\")"
   ]
  },
  {
   "cell_type": "code",
   "execution_count": 45,
   "metadata": {},
   "outputs": [
    {
     "data": {
      "text/html": [
       "<div>\n",
       "<style scoped>\n",
       "    .dataframe tbody tr th:only-of-type {\n",
       "        vertical-align: middle;\n",
       "    }\n",
       "\n",
       "    .dataframe tbody tr th {\n",
       "        vertical-align: top;\n",
       "    }\n",
       "\n",
       "    .dataframe thead th {\n",
       "        text-align: right;\n",
       "    }\n",
       "</style>\n",
       "<table border=\"1\" class=\"dataframe\">\n",
       "  <thead>\n",
       "    <tr style=\"text-align: right;\">\n",
       "      <th></th>\n",
       "      <th>tconst</th>\n",
       "      <th>averageRating</th>\n",
       "      <th>numVotes</th>\n",
       "    </tr>\n",
       "  </thead>\n",
       "  <tbody>\n",
       "    <tr>\n",
       "      <th>0</th>\n",
       "      <td>tt0000001</td>\n",
       "      <td>5.7</td>\n",
       "      <td>1827</td>\n",
       "    </tr>\n",
       "    <tr>\n",
       "      <th>1</th>\n",
       "      <td>tt0000002</td>\n",
       "      <td>6.0</td>\n",
       "      <td>235</td>\n",
       "    </tr>\n",
       "    <tr>\n",
       "      <th>2</th>\n",
       "      <td>tt0000003</td>\n",
       "      <td>6.5</td>\n",
       "      <td>1587</td>\n",
       "    </tr>\n",
       "    <tr>\n",
       "      <th>3</th>\n",
       "      <td>tt0000004</td>\n",
       "      <td>6.0</td>\n",
       "      <td>153</td>\n",
       "    </tr>\n",
       "    <tr>\n",
       "      <th>4</th>\n",
       "      <td>tt0000005</td>\n",
       "      <td>6.2</td>\n",
       "      <td>2404</td>\n",
       "    </tr>\n",
       "    <tr>\n",
       "      <th>...</th>\n",
       "      <td>...</td>\n",
       "      <td>...</td>\n",
       "      <td>...</td>\n",
       "    </tr>\n",
       "    <tr>\n",
       "      <th>1196704</th>\n",
       "      <td>tt9916682</td>\n",
       "      <td>5.6</td>\n",
       "      <td>5</td>\n",
       "    </tr>\n",
       "    <tr>\n",
       "      <th>1196705</th>\n",
       "      <td>tt9916690</td>\n",
       "      <td>6.6</td>\n",
       "      <td>5</td>\n",
       "    </tr>\n",
       "    <tr>\n",
       "      <th>1196706</th>\n",
       "      <td>tt9916720</td>\n",
       "      <td>5.1</td>\n",
       "      <td>143</td>\n",
       "    </tr>\n",
       "    <tr>\n",
       "      <th>1196707</th>\n",
       "      <td>tt9916766</td>\n",
       "      <td>7.1</td>\n",
       "      <td>17</td>\n",
       "    </tr>\n",
       "    <tr>\n",
       "      <th>1196708</th>\n",
       "      <td>tt9916778</td>\n",
       "      <td>7.5</td>\n",
       "      <td>31</td>\n",
       "    </tr>\n",
       "  </tbody>\n",
       "</table>\n",
       "<p>1196709 rows × 3 columns</p>\n",
       "</div>"
      ],
      "text/plain": [
       "            tconst  averageRating  numVotes\n",
       "0        tt0000001            5.7      1827\n",
       "1        tt0000002            6.0       235\n",
       "2        tt0000003            6.5      1587\n",
       "3        tt0000004            6.0       153\n",
       "4        tt0000005            6.2      2404\n",
       "...            ...            ...       ...\n",
       "1196704  tt9916682            5.6         5\n",
       "1196705  tt9916690            6.6         5\n",
       "1196706  tt9916720            5.1       143\n",
       "1196707  tt9916766            7.1        17\n",
       "1196708  tt9916778            7.5        31\n",
       "\n",
       "[1196709 rows x 3 columns]"
      ]
     },
     "execution_count": 45,
     "metadata": {},
     "output_type": "execute_result"
    }
   ],
   "source": [
    "# Erneuter Aufruf der Daten\n",
    "imdb"
   ]
  },
  {
   "cell_type": "code",
   "execution_count": null,
   "metadata": {},
   "outputs": [],
   "source": []
  },
  {
   "cell_type": "markdown",
   "metadata": {},
   "source": [
    "### Beantwortung der 1. Frage\n",
    "\n",
    "Welcher Titel hat die wenigsten und meisten Stimmen im Durchschnitt?"
   ]
  },
  {
   "cell_type": "code",
   "execution_count": 48,
   "metadata": {},
   "outputs": [
    {
     "ename": "NameError",
     "evalue": "name 'averagerating' is not defined",
     "output_type": "error",
     "traceback": [
      "\u001b[1;31m---------------------------------------------------------------------------\u001b[0m",
      "\u001b[1;31mNameError\u001b[0m                                 Traceback (most recent call last)",
      "\u001b[1;32m<ipython-input-48-94734e10c6f5>\u001b[0m in \u001b[0;36m<module>\u001b[1;34m\u001b[0m\n\u001b[0;32m      1\u001b[0m \u001b[1;31m#Aufruf der Daten von 'averageRating'\u001b[0m\u001b[1;33m\u001b[0m\u001b[1;33m\u001b[0m\u001b[1;33m\u001b[0m\u001b[0m\n\u001b[1;32m----> 2\u001b[1;33m \u001b[0mimdb\u001b[0m\u001b[1;33m(\u001b[0m\u001b[0maveragerating\u001b[0m\u001b[1;33m)\u001b[0m\u001b[1;33m\u001b[0m\u001b[1;33m\u001b[0m\u001b[0m\n\u001b[0m",
      "\u001b[1;31mNameError\u001b[0m: name 'averagerating' is not defined"
     ]
    }
   ],
   "source": [
    "#Aufruf der Daten von 'averageRating'\n",
    "imdb(averagerating)"
   ]
  },
  {
   "cell_type": "code",
   "execution_count": 50,
   "metadata": {},
   "outputs": [
    {
     "ename": "NameError",
     "evalue": "name 'averageRating' is not defined",
     "output_type": "error",
     "traceback": [
      "\u001b[1;31m---------------------------------------------------------------------------\u001b[0m",
      "\u001b[1;31mNameError\u001b[0m                                 Traceback (most recent call last)",
      "\u001b[1;32m<ipython-input-50-4ddcce7f9ab3>\u001b[0m in \u001b[0;36m<module>\u001b[1;34m\u001b[0m\n\u001b[1;32m----> 1\u001b[1;33m \u001b[0mimdb\u001b[0m \u001b[1;33m[\u001b[0m\u001b[0maverageRating\u001b[0m\u001b[1;33m]\u001b[0m\u001b[1;33m\u001b[0m\u001b[1;33m\u001b[0m\u001b[0m\n\u001b[0m",
      "\u001b[1;31mNameError\u001b[0m: name 'averageRating' is not defined"
     ]
    }
   ],
   "source": [
    "imdb [averageRating]"
   ]
  },
  {
   "cell_type": "code",
   "execution_count": 51,
   "metadata": {},
   "outputs": [
    {
     "data": {
      "text/plain": [
       "0          5.7\n",
       "1          6.0\n",
       "2          6.5\n",
       "3          6.0\n",
       "4          6.2\n",
       "          ... \n",
       "1196704    5.6\n",
       "1196705    6.6\n",
       "1196706    5.1\n",
       "1196707    7.1\n",
       "1196708    7.5\n",
       "Name: averageRating, Length: 1196709, dtype: float64"
      ]
     },
     "execution_count": 51,
     "metadata": {},
     "output_type": "execute_result"
    }
   ],
   "source": [
    "imdb [\"averageRating\"]"
   ]
  },
  {
   "cell_type": "code",
   "execution_count": 52,
   "metadata": {},
   "outputs": [
    {
     "ename": "AttributeError",
     "evalue": "'Series' object has no attribute 'sort'",
     "output_type": "error",
     "traceback": [
      "\u001b[1;31m---------------------------------------------------------------------------\u001b[0m",
      "\u001b[1;31mAttributeError\u001b[0m                            Traceback (most recent call last)",
      "\u001b[1;32m<ipython-input-52-19f9e9248db1>\u001b[0m in \u001b[0;36m<module>\u001b[1;34m\u001b[0m\n\u001b[0;32m      1\u001b[0m \u001b[1;31m#Versuch die Werte nun zu sortieren mit sort\u001b[0m\u001b[1;33m\u001b[0m\u001b[1;33m\u001b[0m\u001b[1;33m\u001b[0m\u001b[0m\n\u001b[1;32m----> 2\u001b[1;33m \u001b[0mimdb\u001b[0m\u001b[1;33m.\u001b[0m\u001b[0maverageRating\u001b[0m\u001b[1;33m.\u001b[0m\u001b[0msort\u001b[0m\u001b[1;33m\u001b[0m\u001b[1;33m\u001b[0m\u001b[0m\n\u001b[0m",
      "\u001b[1;32m~\\anaconda3\\lib\\site-packages\\pandas\\core\\generic.py\u001b[0m in \u001b[0;36m__getattr__\u001b[1;34m(self, name)\u001b[0m\n\u001b[0;32m   5137\u001b[0m             \u001b[1;32mif\u001b[0m \u001b[0mself\u001b[0m\u001b[1;33m.\u001b[0m\u001b[0m_info_axis\u001b[0m\u001b[1;33m.\u001b[0m\u001b[0m_can_hold_identifiers_and_holds_name\u001b[0m\u001b[1;33m(\u001b[0m\u001b[0mname\u001b[0m\u001b[1;33m)\u001b[0m\u001b[1;33m:\u001b[0m\u001b[1;33m\u001b[0m\u001b[1;33m\u001b[0m\u001b[0m\n\u001b[0;32m   5138\u001b[0m                 \u001b[1;32mreturn\u001b[0m \u001b[0mself\u001b[0m\u001b[1;33m[\u001b[0m\u001b[0mname\u001b[0m\u001b[1;33m]\u001b[0m\u001b[1;33m\u001b[0m\u001b[1;33m\u001b[0m\u001b[0m\n\u001b[1;32m-> 5139\u001b[1;33m             \u001b[1;32mreturn\u001b[0m \u001b[0mobject\u001b[0m\u001b[1;33m.\u001b[0m\u001b[0m__getattribute__\u001b[0m\u001b[1;33m(\u001b[0m\u001b[0mself\u001b[0m\u001b[1;33m,\u001b[0m \u001b[0mname\u001b[0m\u001b[1;33m)\u001b[0m\u001b[1;33m\u001b[0m\u001b[1;33m\u001b[0m\u001b[0m\n\u001b[0m\u001b[0;32m   5140\u001b[0m \u001b[1;33m\u001b[0m\u001b[0m\n\u001b[0;32m   5141\u001b[0m     \u001b[1;32mdef\u001b[0m \u001b[0m__setattr__\u001b[0m\u001b[1;33m(\u001b[0m\u001b[0mself\u001b[0m\u001b[1;33m,\u001b[0m \u001b[0mname\u001b[0m\u001b[1;33m:\u001b[0m \u001b[0mstr\u001b[0m\u001b[1;33m,\u001b[0m \u001b[0mvalue\u001b[0m\u001b[1;33m)\u001b[0m \u001b[1;33m->\u001b[0m \u001b[1;32mNone\u001b[0m\u001b[1;33m:\u001b[0m\u001b[1;33m\u001b[0m\u001b[1;33m\u001b[0m\u001b[0m\n",
      "\u001b[1;31mAttributeError\u001b[0m: 'Series' object has no attribute 'sort'"
     ]
    }
   ],
   "source": [
    "#Versuch die Werte nun zu sortieren mit sort\n",
    "imdb.averageRating.sort"
   ]
  },
  {
   "cell_type": "code",
   "execution_count": 54,
   "metadata": {},
   "outputs": [
    {
     "ename": "AttributeError",
     "evalue": "'DataFrame' object has no attribute 'averagerating'",
     "output_type": "error",
     "traceback": [
      "\u001b[1;31m---------------------------------------------------------------------------\u001b[0m",
      "\u001b[1;31mAttributeError\u001b[0m                            Traceback (most recent call last)",
      "\u001b[1;32m<ipython-input-54-711ff65f3586>\u001b[0m in \u001b[0;36m<module>\u001b[1;34m\u001b[0m\n\u001b[0;32m      1\u001b[0m \u001b[1;31m#Erneuter Versuch...\u001b[0m\u001b[1;33m\u001b[0m\u001b[1;33m\u001b[0m\u001b[1;33m\u001b[0m\u001b[0m\n\u001b[1;32m----> 2\u001b[1;33m \u001b[0mimdb\u001b[0m\u001b[1;33m.\u001b[0m\u001b[0maveragerating\u001b[0m\u001b[1;33m.\u001b[0m\u001b[0msort\u001b[0m\u001b[1;33m(\u001b[0m\u001b[1;33m)\u001b[0m\u001b[1;33m\u001b[0m\u001b[1;33m\u001b[0m\u001b[0m\n\u001b[0m",
      "\u001b[1;32m~\\anaconda3\\lib\\site-packages\\pandas\\core\\generic.py\u001b[0m in \u001b[0;36m__getattr__\u001b[1;34m(self, name)\u001b[0m\n\u001b[0;32m   5137\u001b[0m             \u001b[1;32mif\u001b[0m \u001b[0mself\u001b[0m\u001b[1;33m.\u001b[0m\u001b[0m_info_axis\u001b[0m\u001b[1;33m.\u001b[0m\u001b[0m_can_hold_identifiers_and_holds_name\u001b[0m\u001b[1;33m(\u001b[0m\u001b[0mname\u001b[0m\u001b[1;33m)\u001b[0m\u001b[1;33m:\u001b[0m\u001b[1;33m\u001b[0m\u001b[1;33m\u001b[0m\u001b[0m\n\u001b[0;32m   5138\u001b[0m                 \u001b[1;32mreturn\u001b[0m \u001b[0mself\u001b[0m\u001b[1;33m[\u001b[0m\u001b[0mname\u001b[0m\u001b[1;33m]\u001b[0m\u001b[1;33m\u001b[0m\u001b[1;33m\u001b[0m\u001b[0m\n\u001b[1;32m-> 5139\u001b[1;33m             \u001b[1;32mreturn\u001b[0m \u001b[0mobject\u001b[0m\u001b[1;33m.\u001b[0m\u001b[0m__getattribute__\u001b[0m\u001b[1;33m(\u001b[0m\u001b[0mself\u001b[0m\u001b[1;33m,\u001b[0m \u001b[0mname\u001b[0m\u001b[1;33m)\u001b[0m\u001b[1;33m\u001b[0m\u001b[1;33m\u001b[0m\u001b[0m\n\u001b[0m\u001b[0;32m   5140\u001b[0m \u001b[1;33m\u001b[0m\u001b[0m\n\u001b[0;32m   5141\u001b[0m     \u001b[1;32mdef\u001b[0m \u001b[0m__setattr__\u001b[0m\u001b[1;33m(\u001b[0m\u001b[0mself\u001b[0m\u001b[1;33m,\u001b[0m \u001b[0mname\u001b[0m\u001b[1;33m:\u001b[0m \u001b[0mstr\u001b[0m\u001b[1;33m,\u001b[0m \u001b[0mvalue\u001b[0m\u001b[1;33m)\u001b[0m \u001b[1;33m->\u001b[0m \u001b[1;32mNone\u001b[0m\u001b[1;33m:\u001b[0m\u001b[1;33m\u001b[0m\u001b[1;33m\u001b[0m\u001b[0m\n",
      "\u001b[1;31mAttributeError\u001b[0m: 'DataFrame' object has no attribute 'averagerating'"
     ]
    }
   ],
   "source": [
    "#Erneuter Versuch...\n",
    "imdb.averagerating.sort()"
   ]
  },
  {
   "cell_type": "code",
   "execution_count": 55,
   "metadata": {},
   "outputs": [],
   "source": [
    "#anderer Versuch\n",
    "list = imdb [\"averageRating\"]"
   ]
  },
  {
   "cell_type": "code",
   "execution_count": 56,
   "metadata": {},
   "outputs": [
    {
     "name": "stdout",
     "output_type": "stream",
     "text": [
      "0          5.7\n",
      "1          6.0\n",
      "2          6.5\n",
      "3          6.0\n",
      "4          6.2\n",
      "          ... \n",
      "1196704    5.6\n",
      "1196705    6.6\n",
      "1196706    5.1\n",
      "1196707    7.1\n",
      "1196708    7.5\n",
      "Name: averageRating, Length: 1196709, dtype: float64\n"
     ]
    }
   ],
   "source": [
    "print(list)"
   ]
  },
  {
   "cell_type": "code",
   "execution_count": 60,
   "metadata": {},
   "outputs": [
    {
     "name": "stdout",
     "output_type": "stream",
     "text": [
      "0          5.7\n",
      "1          6.0\n",
      "2          6.5\n",
      "3          6.0\n",
      "4          6.2\n",
      "          ... \n",
      "1196704    5.6\n",
      "1196705    6.6\n",
      "1196706    5.1\n",
      "1196707    7.1\n",
      "1196708    7.5\n",
      "Name: averageRating, Length: 1196709, dtype: float64\n"
     ]
    },
    {
     "ename": "AttributeError",
     "evalue": "'Series' object has no attribute 'sort'",
     "output_type": "error",
     "traceback": [
      "\u001b[1;31m---------------------------------------------------------------------------\u001b[0m",
      "\u001b[1;31mAttributeError\u001b[0m                            Traceback (most recent call last)",
      "\u001b[1;32m<ipython-input-60-ccd72a8fc803>\u001b[0m in \u001b[0;36m<module>\u001b[1;34m\u001b[0m\n\u001b[0;32m      1\u001b[0m \u001b[1;31m#hat auch nicht funktioniert...\u001b[0m\u001b[1;33m\u001b[0m\u001b[1;33m\u001b[0m\u001b[1;33m\u001b[0m\u001b[0m\n\u001b[0;32m      2\u001b[0m \u001b[0mprint\u001b[0m\u001b[1;33m(\u001b[0m\u001b[0mlist\u001b[0m\u001b[1;33m)\u001b[0m\u001b[1;33m\u001b[0m\u001b[1;33m\u001b[0m\u001b[0m\n\u001b[1;32m----> 3\u001b[1;33m \u001b[0mlist\u001b[0m\u001b[1;33m.\u001b[0m\u001b[0msort\u001b[0m\u001b[1;33m(\u001b[0m\u001b[1;33m)\u001b[0m\u001b[1;33m\u001b[0m\u001b[1;33m\u001b[0m\u001b[0m\n\u001b[0m\u001b[0;32m      4\u001b[0m \u001b[0mprint\u001b[0m\u001b[1;33m(\u001b[0m\u001b[0mlist\u001b[0m\u001b[1;33m)\u001b[0m\u001b[1;33m\u001b[0m\u001b[1;33m\u001b[0m\u001b[0m\n",
      "\u001b[1;32m~\\anaconda3\\lib\\site-packages\\pandas\\core\\generic.py\u001b[0m in \u001b[0;36m__getattr__\u001b[1;34m(self, name)\u001b[0m\n\u001b[0;32m   5137\u001b[0m             \u001b[1;32mif\u001b[0m \u001b[0mself\u001b[0m\u001b[1;33m.\u001b[0m\u001b[0m_info_axis\u001b[0m\u001b[1;33m.\u001b[0m\u001b[0m_can_hold_identifiers_and_holds_name\u001b[0m\u001b[1;33m(\u001b[0m\u001b[0mname\u001b[0m\u001b[1;33m)\u001b[0m\u001b[1;33m:\u001b[0m\u001b[1;33m\u001b[0m\u001b[1;33m\u001b[0m\u001b[0m\n\u001b[0;32m   5138\u001b[0m                 \u001b[1;32mreturn\u001b[0m \u001b[0mself\u001b[0m\u001b[1;33m[\u001b[0m\u001b[0mname\u001b[0m\u001b[1;33m]\u001b[0m\u001b[1;33m\u001b[0m\u001b[1;33m\u001b[0m\u001b[0m\n\u001b[1;32m-> 5139\u001b[1;33m             \u001b[1;32mreturn\u001b[0m \u001b[0mobject\u001b[0m\u001b[1;33m.\u001b[0m\u001b[0m__getattribute__\u001b[0m\u001b[1;33m(\u001b[0m\u001b[0mself\u001b[0m\u001b[1;33m,\u001b[0m \u001b[0mname\u001b[0m\u001b[1;33m)\u001b[0m\u001b[1;33m\u001b[0m\u001b[1;33m\u001b[0m\u001b[0m\n\u001b[0m\u001b[0;32m   5140\u001b[0m \u001b[1;33m\u001b[0m\u001b[0m\n\u001b[0;32m   5141\u001b[0m     \u001b[1;32mdef\u001b[0m \u001b[0m__setattr__\u001b[0m\u001b[1;33m(\u001b[0m\u001b[0mself\u001b[0m\u001b[1;33m,\u001b[0m \u001b[0mname\u001b[0m\u001b[1;33m:\u001b[0m \u001b[0mstr\u001b[0m\u001b[1;33m,\u001b[0m \u001b[0mvalue\u001b[0m\u001b[1;33m)\u001b[0m \u001b[1;33m->\u001b[0m \u001b[1;32mNone\u001b[0m\u001b[1;33m:\u001b[0m\u001b[1;33m\u001b[0m\u001b[1;33m\u001b[0m\u001b[0m\n",
      "\u001b[1;31mAttributeError\u001b[0m: 'Series' object has no attribute 'sort'"
     ]
    }
   ],
   "source": [
    "#hat auch nicht funktioniert...\n",
    "print(list)\n",
    "list.sort()\n",
    "print(list)"
   ]
  },
  {
   "cell_type": "code",
   "execution_count": 64,
   "metadata": {},
   "outputs": [
    {
     "data": {
      "text/plain": [
       "965612      1.0\n",
       "1108302     1.0\n",
       "636610      1.0\n",
       "636611      1.0\n",
       "1162919     1.0\n",
       "           ... \n",
       "582080     10.0\n",
       "950677     10.0\n",
       "950676     10.0\n",
       "950672     10.0\n",
       "619697     10.0\n",
       "Name: averageRating, Length: 1196709, dtype: float64"
      ]
     },
     "execution_count": 64,
     "metadata": {},
     "output_type": "execute_result"
    }
   ],
   "source": [
    "# nächster Versuch, der endlich geklappt hat, nach Rechtschreib- und Tippfehlern\n",
    "imdb.averageRating.sort_values()"
   ]
  },
  {
   "cell_type": "markdown",
   "metadata": {},
   "source": [
    "**Ergebnis**\n",
    "\n",
    "Dank sort_value() wurden die Zahlen nun so sortiert, dass sie nun nach dem niedrigsten Durchschnitt hin sortiert wurden sind.\n",
    "Anhand der oben genannten Zahlen kann man sehen, dass es mehrere Titel gibt, die den selben Durchschnitt der Stimmen erzielt haben. Daher kann man keine eindeutige Werke nennen. \n",
    "\n",
    "Um das Ergebnis etwas anschaulicher zu gestalten, versuche ich diese Tabelle nun als ein Diagramm aufzeigen zu lassen.\n"
   ]
  },
  {
   "cell_type": "code",
   "execution_count": 65,
   "metadata": {},
   "outputs": [
    {
     "ename": "NameError",
     "evalue": "name 'red' is not defined",
     "output_type": "error",
     "traceback": [
      "\u001b[1;31m---------------------------------------------------------------------------\u001b[0m",
      "\u001b[1;31mNameError\u001b[0m                                 Traceback (most recent call last)",
      "\u001b[1;32m<ipython-input-65-c01dd0688ab2>\u001b[0m in \u001b[0;36m<module>\u001b[1;34m\u001b[0m\n\u001b[0;32m      1\u001b[0m \u001b[1;31m# Ergebniss als Diagramm, um es zu veranschaulichen\u001b[0m\u001b[1;33m\u001b[0m\u001b[1;33m\u001b[0m\u001b[1;33m\u001b[0m\u001b[0m\n\u001b[1;32m----> 2\u001b[1;33m \u001b[0mimdb\u001b[0m\u001b[1;33m.\u001b[0m\u001b[0maverageRating\u001b[0m\u001b[1;33m.\u001b[0m\u001b[0mhist\u001b[0m\u001b[1;33m(\u001b[0m\u001b[0mcolor\u001b[0m\u001b[1;33m=\u001b[0m\u001b[0mred\u001b[0m\u001b[1;33m)\u001b[0m\u001b[1;33m\u001b[0m\u001b[1;33m\u001b[0m\u001b[0m\n\u001b[0m",
      "\u001b[1;31mNameError\u001b[0m: name 'red' is not defined"
     ]
    }
   ],
   "source": [
    "# Ergebniss als Diagramm, um es zu veranschaulichen\n",
    "imdb.averageRating.hist(color=red)"
   ]
  },
  {
   "cell_type": "code",
   "execution_count": 73,
   "metadata": {},
   "outputs": [
    {
     "data": {
      "text/plain": [
       "<AxesSubplot:>"
      ]
     },
     "execution_count": 73,
     "metadata": {},
     "output_type": "execute_result"
    },
    {
     "data": {
      "image/png": "[encoded data removed]",
      "text/plain": [
       "<Figure size 432x288 with 1 Axes>"
      ]
     },
     "metadata": {
      "needs_background": "light"
     },
     "output_type": "display_data"
    }
   ],
   "source": [
    "# man sollte die \"...\" nicht vergessen...\n",
    "imdb.averageRating.hist(color=\"red\")"
   ]
  },
  {
   "cell_type": "code",
   "execution_count": null,
   "metadata": {},
   "outputs": [],
   "source": []
  },
  {
   "cell_type": "markdown",
   "metadata": {},
   "source": [
    "### Beantwortung der 2. Frage\n",
    "\n",
    "Welcher Titel hat die wenigsten und meisten Stimmen der Nutzer bekommen?"
   ]
  },
  {
   "cell_type": "code",
   "execution_count": 74,
   "metadata": {},
   "outputs": [
    {
     "data": {
      "text/plain": [
       "0          1827\n",
       "1           235\n",
       "2          1587\n",
       "3           153\n",
       "4          2404\n",
       "           ... \n",
       "1196704       5\n",
       "1196705       5\n",
       "1196706     143\n",
       "1196707      17\n",
       "1196708      31\n",
       "Name: numVotes, Length: 1196709, dtype: int64"
      ]
     },
     "execution_count": 74,
     "metadata": {},
     "output_type": "execute_result"
    }
   ],
   "source": [
    "# Aufruf der daten von 'numVotes'\n",
    "imdb [\"numVotes\"]"
   ]
  },
  {
   "cell_type": "code",
   "execution_count": null,
   "metadata": {},
   "outputs": [],
   "source": []
  }
 ],
 "metadata": {
  "kernelspec": {
   "display_name": "Python 3",
   "language": "python",
   "name": "python3"
  },
  "language_info": {
   "codemirror_mode": {
    "name": "ipython",
    "version": 3
   },
   "file_extension": ".py",
   "mimetype": "text/x-python",
   "name": "python",
   "nbconvert_exporter": "python",
   "pygments_lexer": "ipython3",
   "version": "3.8.5"
  }
 },
 "nbformat": 4,
 "nbformat_minor": 4
}
