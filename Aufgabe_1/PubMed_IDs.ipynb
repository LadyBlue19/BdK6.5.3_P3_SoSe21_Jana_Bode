{
 "cells": [
  {
   "cell_type": "markdown",
   "metadata": {},
   "source": [
    "Erstellen Sie ein Jupyter Notebook oder ein Python-Script. Darin sollen äquivalent zu dem\n",
    "gemeinsam durchgeführten DOI/CrossRef-Beispiel Metadaten für gegebene PubMed-IDs\n",
    "mittels Python bezogen und dargestellt werden. Für die PMDI 27708327 kann man über\n",
    "die folgende URL Daten im JSON-Format beziehen:\n",
    "https://eutils.ncbi.nlm.nih.gov/entrez/eutils/esummary.fcgi?db=pubmed&retmode=json&id=27708327"
   ]
  },
  {
   "cell_type": "code",
   "execution_count": 31,
   "metadata": {},
   "outputs": [],
   "source": [
    "import pandas as pd\n",
    "import urllib.request\n",
    "import json"
   ]
  },
  {
   "cell_type": "code",
   "execution_count": 32,
   "metadata": {},
   "outputs": [],
   "source": [
    "base_url = \"https://eutils.ncbi.nlm.nih.gov/entrez/eutils/esummary.fcgi?db=pubmed&retmode=json&id=\"\n",
    "pmid = \"27708327\"\n",
    "full_url = base_url + pmid"
   ]
  },
  {
   "cell_type": "code",
   "execution_count": 56,
   "metadata": {},
   "outputs": [
    {
     "data": {
      "text/plain": [
       "'https://eutils.ncbi.nlm.nih.gov/entrez/eutils/esummary.fcgi?db=pubmed&retmode=json&id=27708327'"
      ]
     },
     "execution_count": 56,
     "metadata": {},
     "output_type": "execute_result"
    }
   ],
   "source": [
    "full_url"
   ]
  },
  {
   "cell_type": "code",
   "execution_count": 33,
   "metadata": {},
   "outputs": [],
   "source": [
    "doi_json_data = urllib.request.urlopen(full_url).read()\n"
   ]
  },
  {
   "cell_type": "code",
   "execution_count": 34,
   "metadata": {},
   "outputs": [
    {
     "name": "stdout",
     "output_type": "stream",
     "text": [
      "b'{\"header\":{\"type\":\"esummary\",\"version\":\"0.3\"},\"result\":{\"uids\":[\"27708327\"],\"27708327\":{\"uid\":\"27708327\",\"pubdate\":\"2016 Oct 6\",\"epubdate\":\"\",\"source\":\"Nature\",\"authors\":[{\"name\":\"Perkel J\",\"authtype\":\"Author\",\"clusterid\":\"\"}],\"lastauthor\":\"Perkel J\",\"title\":\"Democratic databases: science on GitHub.\",\"sorttitle\":\"democratic databases science on github\",\"volume\":\"538\",\"issue\":\"7623\",\"pages\":\"127-128\",\"lang\":[\"eng\"],\"nlmuniqueid\":\"0410462\",\"issn\":\"0028-0836\",\"essn\":\"1476-4687\",\"pubtype\":[\"Journal Article\"],\"recordstatus\":\"PubMed - indexed for MEDLINE\",\"pubstatus\":\"4\",\"articleids\":[{\"idtype\":\"pubmed\",\"idtypen\":1,\"value\":\"27708327\"},{\"idtype\":\"pii\",\"idtypen\":4,\"value\":\"538127a\"},{\"idtype\":\"doi\",\"idtypen\":3,\"value\":\"10.1038/538127a\"},{\"idtype\":\"rid\",\"idtypen\":8,\"value\":\"27708327\"},{\"idtype\":\"eid\",\"idtypen\":8,\"value\":\"27708327\"}],\"history\":[{\"pubstatus\":\"entrez\",\"date\":\"2016/10/07 06:00\"},{\"pubstatus\":\"pubmed\",\"date\":\"2016/10/07 06:00\"},{\"pubstatus\":\"medline\",\"date\":\"2016/11/03 06:00\"}],\"references\":[{\"refsource\":\"Nature. 2016 Oct 31;539(7627):126\",\"reftype\":\"Erratum in\",\"pmid\":27808210,\"note\":\"\"}],\"attributes\":[],\"pmcrefcount\":11,\"fulljournalname\":\"Nature\",\"elocationid\":\"doi: 10.1038/538127a\",\"doctype\":\"citation\",\"srccontriblist\":[],\"booktitle\":\"\",\"medium\":\"\",\"edition\":\"\",\"publisherlocation\":\"\",\"publishername\":\"\",\"srcdate\":\"\",\"reportnumber\":\"\",\"availablefromurl\":\"\",\"locationlabel\":\"\",\"doccontriblist\":[],\"docdate\":\"\",\"bookname\":\"\",\"chapter\":\"\",\"sortpubdate\":\"2016/10/06 00:00\",\"sortfirstauthor\":\"Perkel J\",\"vernaculartitle\":\"\"}}}\\n'\n"
     ]
    }
   ],
   "source": [
    "print(doi_json_data)\n"
   ]
  },
  {
   "cell_type": "code",
   "execution_count": 35,
   "metadata": {},
   "outputs": [
    {
     "data": {
      "text/plain": [
       "bytes"
      ]
     },
     "execution_count": 35,
     "metadata": {},
     "output_type": "execute_result"
    }
   ],
   "source": [
    "type(doi_json_data)"
   ]
  },
  {
   "cell_type": "code",
   "execution_count": 36,
   "metadata": {},
   "outputs": [],
   "source": [
    "doi_data = json.loads(doi_json_data)"
   ]
  },
  {
   "cell_type": "code",
   "execution_count": 37,
   "metadata": {},
   "outputs": [
    {
     "data": {
      "text/plain": [
       "dict"
      ]
     },
     "execution_count": 37,
     "metadata": {},
     "output_type": "execute_result"
    }
   ],
   "source": [
    "type (doi_data)"
   ]
  },
  {
   "cell_type": "code",
   "execution_count": 38,
   "metadata": {},
   "outputs": [
    {
     "name": "stdout",
     "output_type": "stream",
     "text": [
      "{'header': {'type': 'esummary', 'version': '0.3'}, 'result': {'uids': ['27708327'], '27708327': {'uid': '27708327', 'pubdate': '2016 Oct 6', 'epubdate': '', 'source': 'Nature', 'authors': [{'name': 'Perkel J', 'authtype': 'Author', 'clusterid': ''}], 'lastauthor': 'Perkel J', 'title': 'Democratic databases: science on GitHub.', 'sorttitle': 'democratic databases science on github', 'volume': '538', 'issue': '7623', 'pages': '127-128', 'lang': ['eng'], 'nlmuniqueid': '0410462', 'issn': '0028-0836', 'essn': '1476-4687', 'pubtype': ['Journal Article'], 'recordstatus': 'PubMed - indexed for MEDLINE', 'pubstatus': '4', 'articleids': [{'idtype': 'pubmed', 'idtypen': 1, 'value': '27708327'}, {'idtype': 'pii', 'idtypen': 4, 'value': '538127a'}, {'idtype': 'doi', 'idtypen': 3, 'value': '10.1038/538127a'}, {'idtype': 'rid', 'idtypen': 8, 'value': '27708327'}, {'idtype': 'eid', 'idtypen': 8, 'value': '27708327'}], 'history': [{'pubstatus': 'entrez', 'date': '2016/10/07 06:00'}, {'pubstatus': 'pubmed', 'date': '2016/10/07 06:00'}, {'pubstatus': 'medline', 'date': '2016/11/03 06:00'}], 'references': [{'refsource': 'Nature. 2016 Oct 31;539(7627):126', 'reftype': 'Erratum in', 'pmid': 27808210, 'note': ''}], 'attributes': [], 'pmcrefcount': 11, 'fulljournalname': 'Nature', 'elocationid': 'doi: 10.1038/538127a', 'doctype': 'citation', 'srccontriblist': [], 'booktitle': '', 'medium': '', 'edition': '', 'publisherlocation': '', 'publishername': '', 'srcdate': '', 'reportnumber': '', 'availablefromurl': '', 'locationlabel': '', 'doccontriblist': [], 'docdate': '', 'bookname': '', 'chapter': '', 'sortpubdate': '2016/10/06 00:00', 'sortfirstauthor': 'Perkel J', 'vernaculartitle': ''}}}\n"
     ]
    }
   ],
   "source": [
    "print(doi_data)"
   ]
  },
  {
   "cell_type": "code",
   "execution_count": 39,
   "metadata": {},
   "outputs": [
    {
     "name": "stdout",
     "output_type": "stream",
     "text": [
      "{\n",
      "    \"header\": {\n",
      "        \"type\": \"esummary\",\n",
      "        \"version\": \"0.3\"\n",
      "    },\n",
      "    \"result\": {\n",
      "        \"uids\": [\n",
      "            \"27708327\"\n",
      "        ],\n",
      "        \"27708327\": {\n",
      "            \"uid\": \"27708327\",\n",
      "            \"pubdate\": \"2016 Oct 6\",\n",
      "            \"epubdate\": \"\",\n",
      "            \"source\": \"Nature\",\n",
      "            \"authors\": [\n",
      "                {\n",
      "                    \"name\": \"Perkel J\",\n",
      "                    \"authtype\": \"Author\",\n",
      "                    \"clusterid\": \"\"\n",
      "                }\n",
      "            ],\n",
      "            \"lastauthor\": \"Perkel J\",\n",
      "            \"title\": \"Democratic databases: science on GitHub.\",\n",
      "            \"sorttitle\": \"democratic databases science on github\",\n",
      "            \"volume\": \"538\",\n",
      "            \"issue\": \"7623\",\n",
      "            \"pages\": \"127-128\",\n",
      "            \"lang\": [\n",
      "                \"eng\"\n",
      "            ],\n",
      "            \"nlmuniqueid\": \"0410462\",\n",
      "            \"issn\": \"0028-0836\",\n",
      "            \"essn\": \"1476-4687\",\n",
      "            \"pubtype\": [\n",
      "                \"Journal Article\"\n",
      "            ],\n",
      "            \"recordstatus\": \"PubMed - indexed for MEDLINE\",\n",
      "            \"pubstatus\": \"4\",\n",
      "            \"articleids\": [\n",
      "                {\n",
      "                    \"idtype\": \"pubmed\",\n",
      "                    \"idtypen\": 1,\n",
      "                    \"value\": \"27708327\"\n",
      "                },\n",
      "                {\n",
      "                    \"idtype\": \"pii\",\n",
      "                    \"idtypen\": 4,\n",
      "                    \"value\": \"538127a\"\n",
      "                },\n",
      "                {\n",
      "                    \"idtype\": \"doi\",\n",
      "                    \"idtypen\": 3,\n",
      "                    \"value\": \"10.1038/538127a\"\n",
      "                },\n",
      "                {\n",
      "                    \"idtype\": \"rid\",\n",
      "                    \"idtypen\": 8,\n",
      "                    \"value\": \"27708327\"\n",
      "                },\n",
      "                {\n",
      "                    \"idtype\": \"eid\",\n",
      "                    \"idtypen\": 8,\n",
      "                    \"value\": \"27708327\"\n",
      "                }\n",
      "            ],\n",
      "            \"history\": [\n",
      "                {\n",
      "                    \"pubstatus\": \"entrez\",\n",
      "                    \"date\": \"2016/10/07 06:00\"\n",
      "                },\n",
      "                {\n",
      "                    \"pubstatus\": \"pubmed\",\n",
      "                    \"date\": \"2016/10/07 06:00\"\n",
      "                },\n",
      "                {\n",
      "                    \"pubstatus\": \"medline\",\n",
      "                    \"date\": \"2016/11/03 06:00\"\n",
      "                }\n",
      "            ],\n",
      "            \"references\": [\n",
      "                {\n",
      "                    \"refsource\": \"Nature. 2016 Oct 31;539(7627):126\",\n",
      "                    \"reftype\": \"Erratum in\",\n",
      "                    \"pmid\": 27808210,\n",
      "                    \"note\": \"\"\n",
      "                }\n",
      "            ],\n",
      "            \"attributes\": [],\n",
      "            \"pmcrefcount\": 11,\n",
      "            \"fulljournalname\": \"Nature\",\n",
      "            \"elocationid\": \"doi: 10.1038/538127a\",\n",
      "            \"doctype\": \"citation\",\n",
      "            \"srccontriblist\": [],\n",
      "            \"booktitle\": \"\",\n",
      "            \"medium\": \"\",\n",
      "            \"edition\": \"\",\n",
      "            \"publisherlocation\": \"\",\n",
      "            \"publishername\": \"\",\n",
      "            \"srcdate\": \"\",\n",
      "            \"reportnumber\": \"\",\n",
      "            \"availablefromurl\": \"\",\n",
      "            \"locationlabel\": \"\",\n",
      "            \"doccontriblist\": [],\n",
      "            \"docdate\": \"\",\n",
      "            \"bookname\": \"\",\n",
      "            \"chapter\": \"\",\n",
      "            \"sortpubdate\": \"2016/10/06 00:00\",\n",
      "            \"sortfirstauthor\": \"Perkel J\",\n",
      "            \"vernaculartitle\": \"\"\n",
      "        }\n",
      "    }\n",
      "}\n"
     ]
    }
   ],
   "source": [
    "print(json.dumps(doi_data, indent=4))"
   ]
  },
  {
   "cell_type": "code",
   "execution_count": 40,
   "metadata": {},
   "outputs": [
    {
     "data": {
      "text/plain": [
       "dict_keys(['header', 'result'])"
      ]
     },
     "execution_count": 40,
     "metadata": {},
     "output_type": "execute_result"
    }
   ],
   "source": [
    "doi_data.keys()"
   ]
  },
  {
   "cell_type": "code",
   "execution_count": 41,
   "metadata": {},
   "outputs": [
    {
     "data": {
      "text/plain": [
       "{'uids': ['27708327'],\n",
       " '27708327': {'uid': '27708327',\n",
       "  'pubdate': '2016 Oct 6',\n",
       "  'epubdate': '',\n",
       "  'source': 'Nature',\n",
       "  'authors': [{'name': 'Perkel J', 'authtype': 'Author', 'clusterid': ''}],\n",
       "  'lastauthor': 'Perkel J',\n",
       "  'title': 'Democratic databases: science on GitHub.',\n",
       "  'sorttitle': 'democratic databases science on github',\n",
       "  'volume': '538',\n",
       "  'issue': '7623',\n",
       "  'pages': '127-128',\n",
       "  'lang': ['eng'],\n",
       "  'nlmuniqueid': '0410462',\n",
       "  'issn': '0028-0836',\n",
       "  'essn': '1476-4687',\n",
       "  'pubtype': ['Journal Article'],\n",
       "  'recordstatus': 'PubMed - indexed for MEDLINE',\n",
       "  'pubstatus': '4',\n",
       "  'articleids': [{'idtype': 'pubmed', 'idtypen': 1, 'value': '27708327'},\n",
       "   {'idtype': 'pii', 'idtypen': 4, 'value': '538127a'},\n",
       "   {'idtype': 'doi', 'idtypen': 3, 'value': '10.1038/538127a'},\n",
       "   {'idtype': 'rid', 'idtypen': 8, 'value': '27708327'},\n",
       "   {'idtype': 'eid', 'idtypen': 8, 'value': '27708327'}],\n",
       "  'history': [{'pubstatus': 'entrez', 'date': '2016/10/07 06:00'},\n",
       "   {'pubstatus': 'pubmed', 'date': '2016/10/07 06:00'},\n",
       "   {'pubstatus': 'medline', 'date': '2016/11/03 06:00'}],\n",
       "  'references': [{'refsource': 'Nature. 2016 Oct 31;539(7627):126',\n",
       "    'reftype': 'Erratum in',\n",
       "    'pmid': 27808210,\n",
       "    'note': ''}],\n",
       "  'attributes': [],\n",
       "  'pmcrefcount': 11,\n",
       "  'fulljournalname': 'Nature',\n",
       "  'elocationid': 'doi: 10.1038/538127a',\n",
       "  'doctype': 'citation',\n",
       "  'srccontriblist': [],\n",
       "  'booktitle': '',\n",
       "  'medium': '',\n",
       "  'edition': '',\n",
       "  'publisherlocation': '',\n",
       "  'publishername': '',\n",
       "  'srcdate': '',\n",
       "  'reportnumber': '',\n",
       "  'availablefromurl': '',\n",
       "  'locationlabel': '',\n",
       "  'doccontriblist': [],\n",
       "  'docdate': '',\n",
       "  'bookname': '',\n",
       "  'chapter': '',\n",
       "  'sortpubdate': '2016/10/06 00:00',\n",
       "  'sortfirstauthor': 'Perkel J',\n",
       "  'vernaculartitle': ''}}"
      ]
     },
     "execution_count": 41,
     "metadata": {},
     "output_type": "execute_result"
    }
   ],
   "source": [
    "doi_data[\"result\"]"
   ]
  },
  {
   "cell_type": "code",
   "execution_count": 42,
   "metadata": {},
   "outputs": [],
   "source": [
    "result = doi_data[\"result\"]"
   ]
  },
  {
   "cell_type": "code",
   "execution_count": 43,
   "metadata": {},
   "outputs": [
    {
     "data": {
      "text/plain": [
       "{'uids': ['27708327'],\n",
       " '27708327': {'uid': '27708327',\n",
       "  'pubdate': '2016 Oct 6',\n",
       "  'epubdate': '',\n",
       "  'source': 'Nature',\n",
       "  'authors': [{'name': 'Perkel J', 'authtype': 'Author', 'clusterid': ''}],\n",
       "  'lastauthor': 'Perkel J',\n",
       "  'title': 'Democratic databases: science on GitHub.',\n",
       "  'sorttitle': 'democratic databases science on github',\n",
       "  'volume': '538',\n",
       "  'issue': '7623',\n",
       "  'pages': '127-128',\n",
       "  'lang': ['eng'],\n",
       "  'nlmuniqueid': '0410462',\n",
       "  'issn': '0028-0836',\n",
       "  'essn': '1476-4687',\n",
       "  'pubtype': ['Journal Article'],\n",
       "  'recordstatus': 'PubMed - indexed for MEDLINE',\n",
       "  'pubstatus': '4',\n",
       "  'articleids': [{'idtype': 'pubmed', 'idtypen': 1, 'value': '27708327'},\n",
       "   {'idtype': 'pii', 'idtypen': 4, 'value': '538127a'},\n",
       "   {'idtype': 'doi', 'idtypen': 3, 'value': '10.1038/538127a'},\n",
       "   {'idtype': 'rid', 'idtypen': 8, 'value': '27708327'},\n",
       "   {'idtype': 'eid', 'idtypen': 8, 'value': '27708327'}],\n",
       "  'history': [{'pubstatus': 'entrez', 'date': '2016/10/07 06:00'},\n",
       "   {'pubstatus': 'pubmed', 'date': '2016/10/07 06:00'},\n",
       "   {'pubstatus': 'medline', 'date': '2016/11/03 06:00'}],\n",
       "  'references': [{'refsource': 'Nature. 2016 Oct 31;539(7627):126',\n",
       "    'reftype': 'Erratum in',\n",
       "    'pmid': 27808210,\n",
       "    'note': ''}],\n",
       "  'attributes': [],\n",
       "  'pmcrefcount': 11,\n",
       "  'fulljournalname': 'Nature',\n",
       "  'elocationid': 'doi: 10.1038/538127a',\n",
       "  'doctype': 'citation',\n",
       "  'srccontriblist': [],\n",
       "  'booktitle': '',\n",
       "  'medium': '',\n",
       "  'edition': '',\n",
       "  'publisherlocation': '',\n",
       "  'publishername': '',\n",
       "  'srcdate': '',\n",
       "  'reportnumber': '',\n",
       "  'availablefromurl': '',\n",
       "  'locationlabel': '',\n",
       "  'doccontriblist': [],\n",
       "  'docdate': '',\n",
       "  'bookname': '',\n",
       "  'chapter': '',\n",
       "  'sortpubdate': '2016/10/06 00:00',\n",
       "  'sortfirstauthor': 'Perkel J',\n",
       "  'vernaculartitle': ''}}"
      ]
     },
     "execution_count": 43,
     "metadata": {},
     "output_type": "execute_result"
    }
   ],
   "source": [
    "result"
   ]
  },
  {
   "cell_type": "code",
   "execution_count": 44,
   "metadata": {},
   "outputs": [
    {
     "ename": "KeyError",
     "evalue": "'title'",
     "output_type": "error",
     "traceback": [
      "\u001b[1;31m---------------------------------------------------------------------------\u001b[0m",
      "\u001b[1;31mKeyError\u001b[0m                                  Traceback (most recent call last)",
      "\u001b[1;32m<ipython-input-44-680d1a74f5d6>\u001b[0m in \u001b[0;36m<module>\u001b[1;34m\u001b[0m\n\u001b[1;32m----> 1\u001b[1;33m \u001b[0mresult\u001b[0m \u001b[1;33m[\u001b[0m\u001b[1;34m\"title\"\u001b[0m\u001b[1;33m]\u001b[0m\u001b[1;33m\u001b[0m\u001b[1;33m\u001b[0m\u001b[0m\n\u001b[0m",
      "\u001b[1;31mKeyError\u001b[0m: 'title'"
     ]
    }
   ],
   "source": [
    "result [\"title\"]"
   ]
  },
  {
   "cell_type": "code",
   "execution_count": 45,
   "metadata": {},
   "outputs": [
    {
     "data": {
      "text/plain": [
       "dict_keys(['uids', '27708327'])"
      ]
     },
     "execution_count": 45,
     "metadata": {},
     "output_type": "execute_result"
    }
   ],
   "source": [
    "result.keys()"
   ]
  },
  {
   "cell_type": "code",
   "execution_count": 46,
   "metadata": {},
   "outputs": [
    {
     "ename": "KeyError",
     "evalue": "0",
     "output_type": "error",
     "traceback": [
      "\u001b[1;31m---------------------------------------------------------------------------\u001b[0m",
      "\u001b[1;31mKeyError\u001b[0m                                  Traceback (most recent call last)",
      "\u001b[1;32m<ipython-input-46-e37d83d14fe5>\u001b[0m in \u001b[0;36m<module>\u001b[1;34m\u001b[0m\n\u001b[1;32m----> 1\u001b[1;33m \u001b[0mresult\u001b[0m \u001b[1;33m[\u001b[0m\u001b[1;36m0\u001b[0m\u001b[1;33m]\u001b[0m\u001b[1;33m\u001b[0m\u001b[1;33m\u001b[0m\u001b[0m\n\u001b[0m",
      "\u001b[1;31mKeyError\u001b[0m: 0"
     ]
    }
   ],
   "source": [
    "result [0]"
   ]
  },
  {
   "cell_type": "code",
   "execution_count": 47,
   "metadata": {},
   "outputs": [
    {
     "data": {
      "text/plain": [
       "'27708327'"
      ]
     },
     "execution_count": 47,
     "metadata": {},
     "output_type": "execute_result"
    }
   ],
   "source": [
    "doi_data[\"result\"][\"uids\"][0]"
   ]
  },
  {
   "cell_type": "code",
   "execution_count": 48,
   "metadata": {},
   "outputs": [],
   "source": [
    "uid = doi_data[\"result\"][\"uids\"][0]"
   ]
  },
  {
   "cell_type": "code",
   "execution_count": 49,
   "metadata": {},
   "outputs": [
    {
     "data": {
      "text/plain": [
       "{'uid': '27708327',\n",
       " 'pubdate': '2016 Oct 6',\n",
       " 'epubdate': '',\n",
       " 'source': 'Nature',\n",
       " 'authors': [{'name': 'Perkel J', 'authtype': 'Author', 'clusterid': ''}],\n",
       " 'lastauthor': 'Perkel J',\n",
       " 'title': 'Democratic databases: science on GitHub.',\n",
       " 'sorttitle': 'democratic databases science on github',\n",
       " 'volume': '538',\n",
       " 'issue': '7623',\n",
       " 'pages': '127-128',\n",
       " 'lang': ['eng'],\n",
       " 'nlmuniqueid': '0410462',\n",
       " 'issn': '0028-0836',\n",
       " 'essn': '1476-4687',\n",
       " 'pubtype': ['Journal Article'],\n",
       " 'recordstatus': 'PubMed - indexed for MEDLINE',\n",
       " 'pubstatus': '4',\n",
       " 'articleids': [{'idtype': 'pubmed', 'idtypen': 1, 'value': '27708327'},\n",
       "  {'idtype': 'pii', 'idtypen': 4, 'value': '538127a'},\n",
       "  {'idtype': 'doi', 'idtypen': 3, 'value': '10.1038/538127a'},\n",
       "  {'idtype': 'rid', 'idtypen': 8, 'value': '27708327'},\n",
       "  {'idtype': 'eid', 'idtypen': 8, 'value': '27708327'}],\n",
       " 'history': [{'pubstatus': 'entrez', 'date': '2016/10/07 06:00'},\n",
       "  {'pubstatus': 'pubmed', 'date': '2016/10/07 06:00'},\n",
       "  {'pubstatus': 'medline', 'date': '2016/11/03 06:00'}],\n",
       " 'references': [{'refsource': 'Nature. 2016 Oct 31;539(7627):126',\n",
       "   'reftype': 'Erratum in',\n",
       "   'pmid': 27808210,\n",
       "   'note': ''}],\n",
       " 'attributes': [],\n",
       " 'pmcrefcount': 11,\n",
       " 'fulljournalname': 'Nature',\n",
       " 'elocationid': 'doi: 10.1038/538127a',\n",
       " 'doctype': 'citation',\n",
       " 'srccontriblist': [],\n",
       " 'booktitle': '',\n",
       " 'medium': '',\n",
       " 'edition': '',\n",
       " 'publisherlocation': '',\n",
       " 'publishername': '',\n",
       " 'srcdate': '',\n",
       " 'reportnumber': '',\n",
       " 'availablefromurl': '',\n",
       " 'locationlabel': '',\n",
       " 'doccontriblist': [],\n",
       " 'docdate': '',\n",
       " 'bookname': '',\n",
       " 'chapter': '',\n",
       " 'sortpubdate': '2016/10/06 00:00',\n",
       " 'sortfirstauthor': 'Perkel J',\n",
       " 'vernaculartitle': ''}"
      ]
     },
     "execution_count": 49,
     "metadata": {},
     "output_type": "execute_result"
    }
   ],
   "source": [
    "doi_data[\"result\"][\"27708327\"]"
   ]
  },
  {
   "cell_type": "code",
   "execution_count": 50,
   "metadata": {},
   "outputs": [
    {
     "data": {
      "text/plain": [
       "'Democratic databases: science on GitHub.'"
      ]
     },
     "execution_count": 50,
     "metadata": {},
     "output_type": "execute_result"
    }
   ],
   "source": [
    "doi_data[\"result\"][\"27708327\"][\"title\"]"
   ]
  },
  {
   "cell_type": "code",
   "execution_count": 51,
   "metadata": {},
   "outputs": [
    {
     "data": {
      "text/plain": [
       "'Democratic databases: science on GitHub.'"
      ]
     },
     "execution_count": 51,
     "metadata": {},
     "output_type": "execute_result"
    }
   ],
   "source": [
    "doi_data[\"result\"][uid][\"title\"]"
   ]
  },
  {
   "cell_type": "code",
   "execution_count": 54,
   "metadata": {},
   "outputs": [
    {
     "data": {
      "text/plain": [
       "'uid'"
      ]
     },
     "execution_count": 54,
     "metadata": {},
     "output_type": "execute_result"
    }
   ],
   "source": [
    "# irrelevant\n",
    "\"uid\""
   ]
  },
  {
   "cell_type": "code",
   "execution_count": 53,
   "metadata": {},
   "outputs": [
    {
     "data": {
      "text/plain": [
       "'27708327'"
      ]
     },
     "execution_count": 53,
     "metadata": {},
     "output_type": "execute_result"
    }
   ],
   "source": [
    "uid\n"
   ]
  },
  {
   "cell_type": "code",
   "execution_count": 55,
   "metadata": {},
   "outputs": [
    {
     "data": {
      "text/plain": [
       "'Democratic databases: science on GitHub.'"
      ]
     },
     "execution_count": 55,
     "metadata": {},
     "output_type": "execute_result"
    }
   ],
   "source": [
    "doi_data[\"result\"][pmid][\"title\"]"
   ]
  },
  {
   "cell_type": "code",
   "execution_count": 57,
   "metadata": {},
   "outputs": [
    {
     "data": {
      "text/plain": [
       "'2016 Oct 6'"
      ]
     },
     "execution_count": 57,
     "metadata": {},
     "output_type": "execute_result"
    }
   ],
   "source": [
    "doi_data[\"result\"][pmid][\"pubdate\"]"
   ]
  },
  {
   "cell_type": "code",
   "execution_count": 60,
   "metadata": {},
   "outputs": [],
   "source": [
    "# for - Schleifen\n",
    "pubmed_IDs = [\"27708327\", \"31452104\", \"31437182\", \"31455877\", \"31535994\"]"
   ]
  },
  {
   "cell_type": "code",
   "execution_count": 61,
   "metadata": {},
   "outputs": [
    {
     "name": "stdout",
     "output_type": "stream",
     "text": [
      "27708327\n",
      "31452104\n",
      "31437182\n",
      "31455877\n",
      "31535994\n"
     ]
    }
   ],
   "source": [
    "for element in pubmed_IDs:\n",
    "    print(element)"
   ]
  },
  {
   "cell_type": "code",
   "execution_count": 62,
   "metadata": {},
   "outputs": [
    {
     "name": "stdout",
     "output_type": "stream",
     "text": [
      "https://eutils.ncbi.nlm.nih.gov/entrez/eutils/esummary.fcgi?db=pubmed&retmode=json&id=27708327\n",
      "https://eutils.ncbi.nlm.nih.gov/entrez/eutils/esummary.fcgi?db=pubmed&retmode=json&id=31452104\n",
      "https://eutils.ncbi.nlm.nih.gov/entrez/eutils/esummary.fcgi?db=pubmed&retmode=json&id=31437182\n",
      "https://eutils.ncbi.nlm.nih.gov/entrez/eutils/esummary.fcgi?db=pubmed&retmode=json&id=31455877\n",
      "https://eutils.ncbi.nlm.nih.gov/entrez/eutils/esummary.fcgi?db=pubmed&retmode=json&id=31535994\n"
     ]
    }
   ],
   "source": [
    "for element in pubmed_IDs:\n",
    "    print(base_url + element)"
   ]
  },
  {
   "cell_type": "code",
   "execution_count": 64,
   "metadata": {},
   "outputs": [
    {
     "name": "stdout",
     "output_type": "stream",
     "text": [
      "Democratic databases: science on GitHub. 2016 Oct 6\n",
      "Molegro Virtual Docker for Docking. 2019\n",
      "TreeCluster: Clustering biological sequences using phylogenetic trees. 2019\n",
      "Principles of open source bioinstrumentation applied to the poseidon syringe pump system. 2019 Aug 27\n",
      "Aggregation Signature for Small Object Tracking. 2019 Sep 16\n"
     ]
    }
   ],
   "source": [
    "for element in pubmed_IDs:\n",
    "    full_url = base_url + element\n",
    "    id_json_data = urllib.request.urlopen(full_url).read()\n",
    "    id_data = json.loads(id_json_data)\n",
    "    print(id_data[\"result\"][element][\"title\"] + \" \" + id_data[\"result\"][element][\"pubdate\"])"
   ]
  },
  {
   "cell_type": "code",
   "execution_count": null,
   "metadata": {},
   "outputs": [],
   "source": []
  }
 ],
 "metadata": {
  "kernelspec": {
   "display_name": "Python 3",
   "language": "python",
   "name": "python3"
  },
  "language_info": {
   "codemirror_mode": {
    "name": "ipython",
    "version": 3
   },
   "file_extension": ".py",
   "mimetype": "text/x-python",
   "name": "python",
   "nbconvert_exporter": "python",
   "pygments_lexer": "ipython3",
   "version": "3.8.5"
  }
 },
 "nbformat": 4,
 "nbformat_minor": 4
}
